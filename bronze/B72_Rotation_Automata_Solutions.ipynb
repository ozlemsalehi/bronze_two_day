{
 "cells": [
  {
   "cell_type": "markdown",
   "metadata": {},
   "source": [
    "<table>\n",
    "    <tr><td align=\"right\" style=\"background-color:#ffffff;\">\n",
    "        <img src=\"../images/logo.jpg\" width=\"20%\" align=\"right\">\n",
    "    </td></tr>\n",
    "    <tr><td align=\"right\" style=\"color:#777777;background-color:#ffffff;font-size:12px;\">\n",
    "        Prepared by Abuzer Yakaryilmaz<br>\n",
    "        Özlem Salehi | July 06, 2019 (updated)\n",
    "    </td></tr>\n",
    "    <tr><td align=\"right\" style=\"color:#bbbbbb;background-color:#ffffff;font-size:11px;font-style:italic;\">\n",
    "        This cell contains some macros. If there is a problem with displaying mathematical formulas, please run this cell to load these macros.\n",
    "    </td></tr>\n",
    "</table>\n",
    "$ \\newcommand{\\bra}[1]{\\langle #1|} $\n",
    "$ \\newcommand{\\ket}[1]{|#1\\rangle} $\n",
    "$ \\newcommand{\\braket}[2]{\\langle #1|#2\\rangle} $\n",
    "$ \\newcommand{\\dot}[2]{ #1 \\cdot #2} $\n",
    "$ \\newcommand{\\biginner}[2]{\\left\\langle #1,#2\\right\\rangle} $\n",
    "$ \\newcommand{\\mymatrix}[2]{\\left( \\begin{array}{#1} #2\\end{array} \\right)} $\n",
    "$ \\newcommand{\\myvector}[1]{\\mymatrix{c}{#1}} $\n",
    "$ \\newcommand{\\myrvector}[1]{\\mymatrix{r}{#1}} $\n",
    "$ \\newcommand{\\mypar}[1]{\\left( #1 \\right)} $\n",
    "$ \\newcommand{\\mybigpar}[1]{ \\Big( #1 \\Big)} $\n",
    "$ \\newcommand{\\sqrttwo}{\\frac{1}{\\sqrt{2}}} $\n",
    "$ \\newcommand{\\dsqrttwo}{\\dfrac{1}{\\sqrt{2}}} $\n",
    "$ \\newcommand{\\onehalf}{\\frac{1}{2}} $\n",
    "$ \\newcommand{\\donehalf}{\\dfrac{1}{2}} $\n",
    "$ \\newcommand{\\hadamard}{ \\mymatrix{rr}{ \\sqrttwo & \\sqrttwo \\\\ \\sqrttwo & -\\sqrttwo }} $\n",
    "$ \\newcommand{\\vzero}{\\myvector{1\\\\0}} $\n",
    "$ \\newcommand{\\vone}{\\myvector{0\\\\1}} $\n",
    "$ \\newcommand{\\vhadamardzero}{\\myvector{ \\sqrttwo \\\\  \\sqrttwo } } $\n",
    "$ \\newcommand{\\vhadamardone}{ \\myrvector{ \\sqrttwo \\\\ -\\sqrttwo } } $\n",
    "$ \\newcommand{\\myarray}[2]{ \\begin{array}{#1}#2\\end{array}} $\n",
    "$ \\newcommand{\\X}{ \\mymatrix{cc}{0 & 1 \\\\ 1 & 0}  } $\n",
    "$ \\newcommand{\\Z}{ \\mymatrix{rr}{1 & 0 \\\\ 0 & -1}  } $\n",
    "$ \\newcommand{\\Htwo}{ \\mymatrix{rrrr}{ \\frac{1}{2} & \\frac{1}{2} & \\frac{1}{2} & \\frac{1}{2} \\\\ \\frac{1}{2} & -\\frac{1}{2} & \\frac{1}{2} & -\\frac{1}{2} \\\\ \\frac{1}{2} & \\frac{1}{2} & -\\frac{1}{2} & -\\frac{1}{2} \\\\ \\frac{1}{2} & -\\frac{1}{2} & -\\frac{1}{2} & \\frac{1}{2} } } $\n",
    "$ \\newcommand{\\CNOT}{ \\mymatrix{cccc}{1 & 0 & 0 & 0 \\\\ 0 & 1 & 0 & 0 \\\\ 0 & 0 & 0 & 1 \\\\ 0 & 0 & 1 & 0} } $\n",
    "$ \\newcommand{\\norm}[1]{ \\left\\lVert #1 \\right\\rVert } $"
   ]
  },
  {
   "cell_type": "markdown",
   "metadata": {},
   "source": [
    "<h2> <font color=\"blue\"> Solutions for </font>Rotation Automata</h2>"
   ]
  },
  {
   "cell_type": "markdown",
   "metadata": {},
   "source": [
    "<a id=\"task1\"></a>\n",
    "<h3> Task 1 </h3>\n",
    "\n",
    "Do the same task given above by using different angles.\n",
    "\n",
    "Test at least three different angles. \n",
    "\n",
    "Please modify the code above."
   ]
  },
  {
   "cell_type": "markdown",
   "metadata": {},
   "source": [
    "<h3>Solution</h3>"
   ]
  },
  {
   "cell_type": "markdown",
   "metadata": {},
   "source": [
    "Any odd multiple of $ \\frac{\\pi}{16} $ works: $ i \\frac{\\pi}{16} $, where $ i \\in \\{1,3,5,7,\\ldots\\} $"
   ]
  },
  {
   "cell_type": "markdown",
   "metadata": {},
   "source": [
    "<a id=\"task2\"></a>\n",
    "<h3> Task 2 </h3>\n",
    "\n",
    "Let $ \\mathsf{p} = 11 $.\n",
    "\n",
    "Determine an angle of rotation such that when the length of stream is a multiple of $ \\sf p $, then we observe only state $ 0 $, and we can also observe state $ 1 $, otherwise.\n",
    "\n",
    "Test your rotation by using a quantum circuit. Execute the circuit for all streams of lengths from 1 to 11."
   ]
  },
  {
   "cell_type": "markdown",
   "metadata": {},
   "source": [
    "<h3>Solution</h3>"
   ]
  },
  {
   "cell_type": "markdown",
   "metadata": {},
   "source": [
    "We can pick any angle $ k\\frac{2\\pi}{11} $ for $ k \\in \\{1,\\ldots,10\\} $."
   ]
  },
  {
   "cell_type": "code",
   "execution_count": null,
   "metadata": {},
   "outputs": [],
   "source": [
    "from qiskit import QuantumRegister, ClassicalRegister, QuantumCircuit, execute, Aer\n",
    "from math import pi\n",
    "from random import randrange\n",
    "\n",
    "# the angle of rotation\n",
    "r = randrange(1,11)\n",
    "print(\"the picked angle is\",r,\"times of 2pi/11\")\n",
    "print()  \n",
    "theta = r*pi/11\n",
    "\n",
    "# we read streams of length from 1 to 11\n",
    "for i in range(1,12):\n",
    "    # quantum circuit with one qubit and one bit\n",
    "    qreg =  QuantumRegister(1) \n",
    "    creg = ClassicalRegister(1) \n",
    "    mycircuit = QuantumCircuit(qreg,creg)\n",
    "    # the stream of length i\n",
    "    for j in range(i):\n",
    "        mycircuit.ry(2*theta,qreg[0]) # apply one rotation for each symbol\n",
    "    # we measure after reading the whole stream\n",
    "    #mycircuit.measure(qreg[0],creg[0])\n",
    "    # execute the circuit 1000 times\n",
    "    job = execute(mycircuit,Aer.get_backend('unitary_simulator'))\n",
    "    u=job.result().get_unitary(mycircuit,decimals=3)\n",
    "    # we print the unitary matrix in nice format\n",
    "    for i in range(len(u)):\n",
    "        s=\"\"\n",
    "        for j in range(len(u)):\n",
    "            val = str(u[i][j].real)\n",
    "            while(len(val)<8): val  = \" \"+val\n",
    "            s = s + val\n",
    "        print(s)"
   ]
  },
  {
   "cell_type": "markdown",
   "metadata": {},
   "source": [
    "<a id=\"task3\"></a>\n",
    "<h3> Task 3 </h3>\n",
    "\n",
    "List down 10 possible different angles for Task 2, where each angle should be between 0 and $2\\pi$."
   ]
  },
  {
   "cell_type": "markdown",
   "metadata": {},
   "source": [
    "<h3>Solution</h3>"
   ]
  },
  {
   "cell_type": "markdown",
   "metadata": {},
   "source": [
    "Any angle $ k\\frac{2\\pi}{11} $ for $ k \\in \\{1,\\ldots,10\\} $."
   ]
  },
  {
   "cell_type": "markdown",
   "metadata": {},
   "source": [
    "<h3>Task 4</h3>\n",
    "\n",
    "For each stream of length from 1 to 10, experimentially determine the best angle of rotation (we observe state $\\ket{1}$ the most) by using your circuit."
   ]
  },
  {
   "cell_type": "markdown",
   "metadata": {},
   "source": [
    "<h3>Solution</h3>"
   ]
  },
  {
   "cell_type": "code",
   "execution_count": null,
   "metadata": {},
   "outputs": [],
   "source": [
    "from qiskit import QuantumRegister, ClassicalRegister, QuantumCircuit, execute, Aer\n",
    "from math import pi\n",
    "from random import randrange\n",
    "\n",
    "# for each stream of length from 1 to 10\n",
    "for i in range(1,11):\n",
    "    # we try each angle of the form k*2*pi/11 for k=1,...,10\n",
    "    # we try to find the best k for which we observe 1 the most\n",
    "    number_of_one_state = 0\n",
    "    best_k = 1\n",
    "    all_outcomes_for_i = \"length \"+str(i)+\"-> \"\n",
    "    for k in range(1,11):\n",
    "        theta = k*2*pi/11\n",
    "        # quantum circuit with one qubit and one bit\n",
    "        qreg =  QuantumRegister(1) \n",
    "        creg = ClassicalRegister(1) \n",
    "        mycircuit = QuantumCircuit(qreg,creg)\n",
    "        # the stream of length i\n",
    "        for j in range(i):\n",
    "            mycircuit.ry(2*theta,qreg[0]) # apply one rotation for each symbol\n",
    "            # we measure after reading the whole stream\n",
    "        mycircuit.measure(qreg[0],creg[0])\n",
    "        # execute the circuit 10000 times\n",
    "        job = execute(mycircuit,Aer.get_backend('qasm_simulator'),shots=10000)\n",
    "        counts = job.result().get_counts(mycircuit)\n",
    "        all_outcomes_for_i = all_outcomes_for_i + str(k)+ \":\" + str(counts['1']) + \"  \"\n",
    "        if int(counts['1']) > number_of_one_state:\n",
    "            number_of_one_state = counts['1']\n",
    "            best_k = k\n",
    "    print(all_outcomes_for_i)\n",
    "    print(\"for length\",i,\", the best k is\",best_k)\n",
    "    print()"
   ]
  },
  {
   "cell_type": "markdown",
   "metadata": {},
   "source": [
    "<a id=\"task5\"></a>\n",
    "<h3> Task 5 </h3>\n",
    "\n",
    "Let $ \\mathsf{p} = 31 $.\n",
    "\n",
    "Create a circuit with three quantum bits and three classical bits.\n",
    "\n",
    "Rotate the qubits with angles $ 3\\frac{2\\pi}{31} $, $ 7\\frac{2\\pi}{31} $, and $ 11\\frac{2\\pi}{31} $, respectively.\n",
    "\n",
    "Execute your circuit for all streams of lengths from 1 to 30. Check whether the number of state $ \\ket{000} $ is less than half or not.\n",
    "\n",
    "<i>Note that whether a key is in dictionary or not can be checked as follows:</i>\n",
    "\n",
    "    if '000' in counts.keys():\n",
    "        c = counts['000']\n",
    "    else:\n",
    "        c = 0"
   ]
  },
  {
   "cell_type": "markdown",
   "metadata": {},
   "source": [
    "<h3>Solution</h3>"
   ]
  },
  {
   "cell_type": "code",
   "execution_count": null,
   "metadata": {},
   "outputs": [],
   "source": [
    "from qiskit import QuantumRegister, ClassicalRegister, QuantumCircuit, execute, Aer\n",
    "from math import pi\n",
    "from random import randrange\n",
    "\n",
    "# the angles of rotations\n",
    "theta1 = 3*2*pi/31\n",
    "theta2 = 7*2*pi/31\n",
    "theta3 = 11*2*pi/31\n",
    "\n",
    "# we read streams of length from 1 to 30\n",
    "for i in range(1,32):\n",
    "    # quantum circuit with three qubits and three bits\n",
    "    qreg =  QuantumRegister(3) \n",
    "    creg = ClassicalRegister(3) \n",
    "    mycircuit = QuantumCircuit(qreg,creg)\n",
    "    # the stream of length i\n",
    "    for j in range(i):\n",
    "        # apply rotations for each symbol\n",
    "        mycircuit.ry(2*theta1,qreg[0]) \n",
    "        mycircuit.ry(2*theta2,qreg[1]) \n",
    "        mycircuit.ry(2*theta3,qreg[2]) \n",
    "    # we measure after reading the whole stream\n",
    "    mycircuit.measure(qreg,creg)\n",
    "    # execute the circuit N times\n",
    "    N = 1000\n",
    "    job = execute(mycircuit,Aer.get_backend('qasm_simulator'),shots=N)\n",
    "    counts = job.result().get_counts(mycircuit)\n",
    "    print(counts)\n",
    "    if '000' in counts.keys():\n",
    "        c = counts['000']\n",
    "    else:\n",
    "        c = 0\n",
    "    print('000 is observed',c,'times out of',N)\n",
    "    percentange = round(c/N*100,1)\n",
    "    print(\"the ratio of 000 is \",percentange,\"%\")\n",
    "    print()"
   ]
  },
  {
   "cell_type": "markdown",
   "metadata": {},
   "source": [
    "<a id=\"task6\"></a>\n",
    "<h3> Task 6 </h3>\n",
    "\n",
    "Let $ \\mathsf{p} = 31 $.\n",
    "\n",
    "Create a circuit with three quantum bits and three classical bits.\n",
    "\n",
    "Rotate the qubits with random angles of the form $ k\\frac{2\\pi}{31}, $ where $ k \n",
    "\\in \\{1,\\ldots,30\\}.$\n",
    "\n",
    "Execute your circuit for all streams of lengths from 1 to 30.\n",
    "\n",
    "Calculate the maximum percentage of observing the state $ \\ket{000} $.\n",
    "\n",
    "Repeat this task for a few times.\n",
    "\n",
    "<i>Note that whether a key is in dictionary or not can be checked as follows:</i>\n",
    "\n",
    "    if '000' in counts.keys():\n",
    "        c = counts['000']\n",
    "    else:\n",
    "        c = 0"
   ]
  },
  {
   "cell_type": "markdown",
   "metadata": {},
   "source": [
    "<h3>Solution</h3>"
   ]
  },
  {
   "cell_type": "code",
   "execution_count": null,
   "metadata": {},
   "outputs": [],
   "source": [
    "from qiskit import QuantumRegister, ClassicalRegister, QuantumCircuit, execute, Aer\n",
    "from math import pi\n",
    "from random import randrange\n",
    "\n",
    "# randomly picked angles of rotations \n",
    "k1 = randrange(1,31)\n",
    "theta1 = k1*2*pi/31\n",
    "k2 = randrange(1,31)\n",
    "theta2 = k2*2*pi/31\n",
    "k3 = randrange(1,31)\n",
    "theta3 = k3*2*pi/31\n",
    "print(\"k1 =\",k1,\"k2 =\",k2,\"k3 =\",k3)\n",
    "print()\n",
    "\n",
    "max_percentange = 0\n",
    "# we read streams of length from 1 to 30\n",
    "for i in range(1,31):\n",
    "    k1 = randrange(1,31)\n",
    "    theta1 = k1*2*pi/31\n",
    "    k2 = randrange(1,31)\n",
    "    theta2 = k2*2*pi/31\n",
    "    k3 = randrange(1,31)\n",
    "    theta3 = k3*2*pi/31\n",
    "    # quantum circuit with three qubits and three bits\n",
    "    qreg =  QuantumRegister(3) \n",
    "    creg = ClassicalRegister(3) \n",
    "    mycircuit = QuantumCircuit(qreg,creg)\n",
    "    # the stream of length i\n",
    "    for j in range(i):\n",
    "        # apply rotations for each symbol\n",
    "        mycircuit.ry(2*theta1,qreg[0]) \n",
    "        mycircuit.ry(2*theta2,qreg[1]) \n",
    "        mycircuit.ry(2*theta3,qreg[2]) \n",
    "    # we measure after reading the whole stream\n",
    "    mycircuit.measure(qreg,creg)\n",
    "    # execute the circuit N times\n",
    "    N = 1000\n",
    "    job = execute(mycircuit,Aer.get_backend('qasm_simulator'),shots=N)\n",
    "    counts = job.result().get_counts(mycircuit)\n",
    "    # print(counts)\n",
    "    if '000' in counts.keys():\n",
    "        c = counts['000']\n",
    "    else:\n",
    "        c = 0\n",
    "    # print('000 is observed',c,'times out of',N)\n",
    "    percentange = round(c/N*100,1)\n",
    "    if max_percentange < percentange: max_percentange = percentange\n",
    "    # print(\"the ration of 000 is \",percentange,\"%\")\n",
    "    # print()\n",
    "print(\"max percentage is\",max_percentange)"
   ]
  },
  {
   "cell_type": "markdown",
   "metadata": {},
   "source": [
    "<a id=\"task7\"></a>\n",
    "<h3> Task 7 </h3>\n",
    "\n",
    "Repeat Task 6 by using four and five qubits."
   ]
  },
  {
   "cell_type": "markdown",
   "metadata": {},
   "source": [
    "<h3>Solution</h3>"
   ]
  },
  {
   "cell_type": "code",
   "execution_count": null,
   "metadata": {},
   "outputs": [],
   "source": [
    "from qiskit import QuantumRegister, ClassicalRegister, QuantumCircuit, execute, Aer\n",
    "from math import pi\n",
    "from random import randrange\n",
    "\n",
    "number_of_qubits = 4\n",
    "#number_of_qubits = 5\n",
    "# randomly picked angles of rotations \n",
    "theta = []\n",
    "for i in range(number_of_qubits):\n",
    "    k =  randrange(1,31)\n",
    "    print(\"k\",str(i),\"=\",k)\n",
    "    theta += [k*2*pi/31]\n",
    "# print(theta)\n",
    "\n",
    "# we count the number of zeros\n",
    "zeros = ''\n",
    "for i in range(number_of_qubits):\n",
    "    zeros = zeros + '0'\n",
    "print(\"zeros = \",zeros)\n",
    "print()\n",
    "\n",
    "max_percentange = 0\n",
    "# we read streams of length from 1 to 30\n",
    "for i in range(1,31):\n",
    "    # quantum circuit with qubits and bits\n",
    "    qreg =  QuantumRegister(number_of_qubits) \n",
    "    creg = ClassicalRegister(number_of_qubits) \n",
    "    mycircuit = QuantumCircuit(qreg,creg)\n",
    "    # the stream of length i\n",
    "    for j in range(i):\n",
    "        # apply rotations for each symbol\n",
    "        for k in range(number_of_qubits):\n",
    "            mycircuit.ry(2*theta[k],qreg[k]) \n",
    "    # we measure after reading the whole stream\n",
    "    mycircuit.measure(qreg,creg)\n",
    "    # execute the circuit N times\n",
    "    N = 1000\n",
    "    job = execute(mycircuit,Aer.get_backend('qasm_simulator'),shots=N)\n",
    "    counts = job.result().get_counts(mycircuit)\n",
    "    # print(counts)\n",
    "    if zeros in counts.keys():\n",
    "        c = counts[zeros]\n",
    "    else:\n",
    "        c = 0\n",
    "    # print('000 is observed',c,'times out of',N)\n",
    "    percentange = round(c/N*100,1)\n",
    "    if max_percentange < percentange: max_percentange = percentange\n",
    "    # print(\"the ration of 000 is \",percentange,\"%\")\n",
    "    # print()\n",
    "print(\"max percentage is\",max_percentange)"
   ]
  },
  {
   "cell_type": "code",
   "execution_count": null,
   "metadata": {},
   "outputs": [],
   "source": []
  }
 ],
 "metadata": {
  "kernelspec": {
   "display_name": "Python 3",
   "language": "python",
   "name": "python3"
  },
  "language_info": {
   "codemirror_mode": {
    "name": "ipython",
    "version": 3
   },
   "file_extension": ".py",
   "mimetype": "text/x-python",
   "name": "python",
   "nbconvert_exporter": "python",
   "pygments_lexer": "ipython3",
   "version": "3.7.3"
  }
 },
 "nbformat": 4,
 "nbformat_minor": 2
}
