{
 "cells": [
  {
   "cell_type": "markdown",
   "metadata": {
    "colab_type": "text",
    "id": "xja8fVkMMse2"
   },
   "source": [
    "<table>\n",
    "    <tr><td align=\"right\" style=\"background-color:#ffffff;\">\n",
    "        <img src=\"../images/logo.jpg\" width=\"20%\" align=\"right\">\n",
    "    </td></tr>\n",
    "    <tr><td align=\"right\" style=\"color:#777777;background-color:#ffffff;font-size:12px;\">\n",
    "        Abuzer Yakaryilmaz | May 1, 2019 (updated)<br>\n",
    "        Özlem Salehi |August 04, 2019 (updated)\n",
    "    </td></tr>\n",
    "    <tr><td align=\"right\" style=\"color:#bbbbbb;background-color:#ffffff;font-size:11px;font-style:italic;\">\n",
    "        This cell contains some macros. If there is a problem with displaying mathematical formulas, please run this cell to load these macros.\n",
    "    </td></tr>\n",
    "</table>\n",
    "$ \\newcommand{\\bra}[1]{\\langle #1|} $\n",
    "$ \\newcommand{\\ket}[1]{|#1\\rangle} $\n",
    "$ \\newcommand{\\braket}[2]{\\langle #1|#2\\rangle} $\n",
    "$ \\newcommand{\\dot}[2]{ #1 \\cdot #2} $\n",
    "$ \\newcommand{\\biginner}[2]{\\left\\langle #1,#2\\right\\rangle} $\n",
    "$ \\newcommand{\\mymatrix}[2]{\\left( \\begin{array}{#1} #2\\end{array} \\right)} $\n",
    "$ \\newcommand{\\myvector}[1]{\\mymatrix{c}{#1}} $\n",
    "$ \\newcommand{\\myrvector}[1]{\\mymatrix{r}{#1}} $\n",
    "$ \\newcommand{\\mypar}[1]{\\left( #1 \\right)} $\n",
    "$ \\newcommand{\\mybigpar}[1]{ \\Big( #1 \\Big)} $\n",
    "$ \\newcommand{\\sqrttwo}{\\frac{1}{\\sqrt{2}}} $\n",
    "$ \\newcommand{\\dsqrttwo}{\\dfrac{1}{\\sqrt{2}}} $\n",
    "$ \\newcommand{\\onehalf}{\\frac{1}{2}} $\n",
    "$ \\newcommand{\\donehalf}{\\dfrac{1}{2}} $\n",
    "$ \\newcommand{\\hadamard}{ \\mymatrix{rr}{ \\sqrttwo & \\sqrttwo \\\\ \\sqrttwo & -\\sqrttwo }} $\n",
    "$ \\newcommand{\\vzero}{\\myvector{1\\\\0}} $\n",
    "$ \\newcommand{\\vone}{\\myvector{0\\\\1}} $\n",
    "$ \\newcommand{\\vhadamardzero}{\\myvector{ \\sqrttwo \\\\  \\sqrttwo } } $\n",
    "$ \\newcommand{\\vhadamardone}{ \\myrvector{ \\sqrttwo \\\\ -\\sqrttwo } } $\n",
    "$ \\newcommand{\\myarray}[2]{ \\begin{array}{#1}#2\\end{array}} $\n",
    "$ \\newcommand{\\X}{ \\mymatrix{cc}{0 & 1 \\\\ 1 & 0}  } $\n",
    "$ \\newcommand{\\Z}{ \\mymatrix{rr}{1 & 0 \\\\ 0 & -1}  } $\n",
    "$ \\newcommand{\\Htwo}{ \\mymatrix{rrrr}{ \\frac{1}{2} & \\frac{1}{2} & \\frac{1}{2} & \\frac{1}{2} \\\\ \\frac{1}{2} & -\\frac{1}{2} & \\frac{1}{2} & -\\frac{1}{2} \\\\ \\frac{1}{2} & \\frac{1}{2} & -\\frac{1}{2} & -\\frac{1}{2} \\\\ \\frac{1}{2} & -\\frac{1}{2} & -\\frac{1}{2} & \\frac{1}{2} } } $\n",
    "$ \\newcommand{\\CNOT}{ \\mymatrix{cccc}{1 & 0 & 0 & 0 \\\\ 0 & 1 & 0 & 0 \\\\ 0 & 0 & 0 & 1 \\\\ 0 & 0 & 1 & 0} } $\n",
    "$ \\newcommand{\\norm}[1]{ \\left\\lVert #1 \\right\\rVert } $"
   ]
  },
  {
   "cell_type": "markdown",
   "metadata": {
    "colab_type": "text",
    "id": "aC6J6w52Mse5"
   },
   "source": [
    "<h2> <font color=\"blue\"> Solutions for </font>Grover's Search: One Qubit Representation</h2>"
   ]
  },
  {
   "cell_type": "markdown",
   "metadata": {
    "colab_type": "text",
    "id": "qVAgufinMsfV"
   },
   "source": [
    "<a id=\"task1\"></a>\n",
    "<h3> Task 1 </h3>\n",
    "\n",
    "If $ \\frac{1}{\\sqrt{16}} \\mypar{ \\ket{marked1} + \\ket{marked2} + \\ket{marked3} } = a \\ket{u_{marked}} $, then \n",
    "<ul>\n",
    "    <li> find the value of $a$ </li>\n",
    "    <li> and $ \\ket{u_{marked}} $, </li>\n",
    "</ul>\n",
    "where $ u_{marked} $ should be a quantum state (unit vector).\n",
    "\n",
    "If $ \\frac{1}{\\sqrt{16}} \\mypar{  \\ket{unmarked1} + \\ket{unmarked2} + \\cdots + \\ket{unmarked13} } = b \\ket{u_{unmarked}} $, then \n",
    "<ul>\n",
    "    <li> find the value of $b$ </li>\n",
    "    <li> and $ \\ket{u_{unmarked}} $, </li>\n",
    "</ul>\n",
    "where $ u_{unmarked} $ should be a quantum state (unit vector)."
   ]
  },
  {
   "cell_type": "markdown",
   "metadata": {
    "colab_type": "text",
    "id": "N31vMQGlMsfY"
   },
   "source": [
    "<h3> Solution </h3>"
   ]
  },
  {
   "cell_type": "markdown",
   "metadata": {
    "colab_type": "text",
    "id": "XnfppBN5Msfa"
   },
   "source": [
    "We start with $ \\ket{marked1} + \\ket{marked2} + \\ket{marked3} $. The length of this vector is $ \\sqrt{1^2+1^2+1^2} = \\sqrt{3} $.\n",
    "\n",
    "Therefore, this vector can have length 1 after normalizing by factor $ \\frac{1}{\\sqrt{3}} $. \n",
    "\n",
    "Thus, \n",
    "\n",
    "$$ \n",
    "\\frac{1}{\\sqrt{16}} \\mypar{ \\ket{marked1} + \\ket{marked2} + \\ket{marked3} } \n",
    "= \\frac{1}{\\sqrt{16}} \\frac{\\sqrt{3}}{\\sqrt{3}} \\mypar{ \\ket{marked1} + \\ket{marked2} + \\ket{marked3} }, \n",
    "$$\n",
    "which is equivalent to\n",
    "$$\n",
    "    = \\frac{\\sqrt{3}}{\\sqrt{16}} \\mypar{ \\dfrac{ \\ket{marked1} + \\ket{marked2} + \\ket{marked3} } {\\sqrt{3}} }.\n",
    "$$\n",
    "\n",
    "Thus, $ a = \\sqrt{\\dfrac{3}{16}} $ and $ \\ket{u_{marked}} = \\mypar{ \\dfrac{ \\ket{marked1} + \\ket{marked2} + \\ket{marked3} } {\\sqrt{3}} } $.\n",
    "<hr>"
   ]
  },
  {
   "cell_type": "markdown",
   "metadata": {
    "colab_type": "text",
    "id": "f1lh2IFlMsfb"
   },
   "source": [
    "We continue with $ \\ket{unmarked1} + \\ket{unmarked2} + \\cdots + \\ket{unmarked13} $. The length of this vector is $ \\sqrt{\\underbrace{1^2+\\cdots+1^2}_{13~times}} = \\sqrt{13} $.\n",
    "\n",
    "Therefore, this vector can have length 1 after normalizing by factor $ \\frac{1}{\\sqrt{13}} $. \n",
    "\n",
    "Thus, \n",
    "\n",
    "$$ \n",
    "\\frac{1}{\\sqrt{16}} \\mypar{ \\ket{unmarked1} + \\ket{unmarked2} + \\cdots + \\ket{unmarked13} } \n",
    "= \\frac{1}{\\sqrt{16}} \\frac{\\sqrt{13}}{\\sqrt{13}} \\mypar{ \\ket{unmarked1} + \\ket{unmarked2} + \\cdots + \\ket{unmarked13} }, \n",
    "$$\n",
    "which is equivalent to\n",
    "$$\n",
    "    = \\frac{\\sqrt{13}}{\\sqrt{16}} \\mypar{ \\dfrac{ \\ket{unmarked1} + \\ket{unmarked2} + \\cdots + \\ket{unmarked13} } {\\sqrt{13}} }.\n",
    "$$\n",
    "\n",
    "Thus, $ b = \\sqrt{\\dfrac{13}{16}} $ and $ \\ket{u_{unmarked}} = \\mypar{ \\dfrac{ \\ket{unmarked1} + \\ket{unmarked2} + \\cdots + \\ket{unmarked13} } {\\sqrt{3}} } $.\n",
    "<hr>"
   ]
  },
  {
   "cell_type": "markdown",
   "metadata": {
    "colab_type": "text",
    "id": "U0MxDPL_Msfd"
   },
   "source": [
    "The idea here is to select $ \\ket{u_{marked}} $ and $\\ket{u_{unmarked}} $ as quantum states, i.e., their lengths should be 1. \n",
    "\n",
    "In this way, we can also keep the ratio of $ \\frac{3}{13} $ as ratio of\n",
    "<ul>\n",
    "    <li> the probability of observing a state in $ \\ket{u_{marked}} $ and </li>\n",
    "    <li> the probability of observing a state in $ \\ket{u_{unmarked}} $. </li>\n",
    "</ul>\n",
    "\n",
    "Remark that the first probability is $ a^2 = \\frac{3}{16} $ and the second probability is $ b^2 = \\frac{13}{16} $."
   ]
  }
 ],
 "metadata": {
  "colab": {
   "name": "B88_Grovers_Search_One_Qubit_Representation_Solutions.ipynb",
   "provenance": [],
   "version": "0.3.2"
  },
  "kernelspec": {
   "display_name": "Python 3",
   "language": "python",
   "name": "python3"
  },
  "language_info": {
   "codemirror_mode": {
    "name": "ipython",
    "version": 3
   },
   "file_extension": ".py",
   "mimetype": "text/x-python",
   "name": "python",
   "nbconvert_exporter": "python",
   "pygments_lexer": "ipython3",
   "version": "3.7.3"
  }
 },
 "nbformat": 4,
 "nbformat_minor": 1
}
