{
 "cells": [
  {
   "cell_type": "markdown",
   "metadata": {},
   "source": [
    "<table>\n",
    "    <tr><td align=\"right\" style=\"background-color:#ffffff;\">\n",
    "        <img src=\"../images/logo.jpg\" width=\"20%\" align=\"right\">\n",
    "    </td></tr>\n",
    "    <tr><td align=\"right\" style=\"color:#777777;background-color:#ffffff;font-size:12px;\">\n",
    "        Prepared by Abuzer Yakaryilmaz<br>\n",
    "        Melis Pahalı | December 05, 2019 (updated)<br>\n",
    "        Özlem Salehi | March 1, 2020 (updated)<br>\n",
    "    </td></tr>\n",
    "    <tr><td align=\"right\" style=\"color:#bbbbbb;background-color:#ffffff;font-size:11px;font-style:italic;\">\n",
    "        This cell contains some macros. If there is a problem with displaying mathematical formulas, please run this cell to load these macros.\n",
    "    </td></tr>\n",
    "</table>\n",
    "$ \\newcommand{\\bra}[1]{\\langle #1|} $\n",
    "$ \\newcommand{\\ket}[1]{|#1\\rangle} $\n",
    "$ \\newcommand{\\braket}[2]{\\langle #1|#2\\rangle} $\n",
    "$ \\newcommand{\\dot}[2]{ #1 \\cdot #2} $\n",
    "$ \\newcommand{\\biginner}[2]{\\left\\langle #1,#2\\right\\rangle} $\n",
    "$ \\newcommand{\\mymatrix}[2]{\\left( \\begin{array}{#1} #2\\end{array} \\right)} $\n",
    "$ \\newcommand{\\myvector}[1]{\\mymatrix{c}{#1}} $\n",
    "$ \\newcommand{\\myrvector}[1]{\\mymatrix{r}{#1}} $\n",
    "$ \\newcommand{\\mypar}[1]{\\left( #1 \\right)} $\n",
    "$ \\newcommand{\\mybigpar}[1]{ \\Big( #1 \\Big)} $\n",
    "$ \\newcommand{\\sqrttwo}{\\frac{1}{\\sqrt{2}}} $\n",
    "$ \\newcommand{\\dsqrttwo}{\\dfrac{1}{\\sqrt{2}}} $\n",
    "$ \\newcommand{\\onehalf}{\\frac{1}{2}} $\n",
    "$ \\newcommand{\\donehalf}{\\dfrac{1}{2}} $\n",
    "$ \\newcommand{\\hadamard}{ \\mymatrix{rr}{ \\sqrttwo & \\sqrttwo \\\\ \\sqrttwo & -\\sqrttwo }} $\n",
    "$ \\newcommand{\\vzero}{\\myvector{1\\\\0}} $\n",
    "$ \\newcommand{\\vone}{\\myvector{0\\\\1}} $\n",
    "$ \\newcommand{\\vhadamardzero}{\\myvector{ \\sqrttwo \\\\  \\sqrttwo } } $\n",
    "$ \\newcommand{\\vhadamardone}{ \\myrvector{ \\sqrttwo \\\\ -\\sqrttwo } } $\n",
    "$ \\newcommand{\\myarray}[2]{ \\begin{array}{#1}#2\\end{array}} $\n",
    "$ \\newcommand{\\X}{ \\mymatrix{cc}{0 & 1 \\\\ 1 & 0}  } $\n",
    "$ \\newcommand{\\Z}{ \\mymatrix{rr}{1 & 0 \\\\ 0 & -1}  } $\n",
    "$ \\newcommand{\\Htwo}{ \\mymatrix{rrrr}{ \\frac{1}{2} & \\frac{1}{2} & \\frac{1}{2} & \\frac{1}{2} \\\\ \\frac{1}{2} & -\\frac{1}{2} & \\frac{1}{2} & -\\frac{1}{2} \\\\ \\frac{1}{2} & \\frac{1}{2} & -\\frac{1}{2} & -\\frac{1}{2} \\\\ \\frac{1}{2} & -\\frac{1}{2} & -\\frac{1}{2} & \\frac{1}{2} } } $\n",
    "$ \\newcommand{\\CNOT}{ \\mymatrix{cccc}{1 & 0 & 0 & 0 \\\\ 0 & 1 & 0 & 0 \\\\ 0 & 0 & 0 & 1 \\\\ 0 & 0 & 1 & 0} } $\n",
    "$ \\newcommand{\\norm}[1]{ \\left\\lVert #1 \\right\\rVert } $"
   ]
  },
  {
   "cell_type": "markdown",
   "metadata": {},
   "source": [
    "<h2>Quantum Teleportation</h2>"
   ]
  },
  {
   "cell_type": "markdown",
   "metadata": {},
   "source": [
    "Asja wants to send a qubit to Balvis by using only classical communication.\n",
    "\n",
    "Let $ \\ket{v} = \\myvector{a\\\\ b} \\in \\mathbb{R}^2 $ be the quantum state of Asja's qubit.\n",
    "\n",
    "If Asja has many copies of this qubit, then she can collect the statistics based on these qubits and obtain an approximation of $ a $ and $ b $, say $ \\tilde{a} $ and $\\tilde{b}$, respectively. After this, Asja can send $ \\tilde{a} $ and $\\tilde{b}$ by using many classical bits, the number of which depends on the precision of the amplitudes. "
   ]
  },
  {
   "cell_type": "markdown",
   "metadata": {},
   "source": [
    "On the other hand, If Asja and Balvis share the entangled qubits in state $ \\sqrttwo\\ket{00} + \\sqrttwo\\ket{11} $ in advance, then it is possible for Balvis to create $ \\ket{v} $ in his qubit after receiving two bits of information from Asja."
   ]
  },
  {
   "cell_type": "markdown",
   "metadata": {},
   "source": [
    "<h3>What is quantum teleportation?</h3>\n",
    "\n",
    "It is the process of transmission of quantum information, that is the state of a qubit, using classical communication and previously entangled qubits.\n",
    "\n",
    "The state of a qubit is transfered onto another qubit, while the state of the source qubit is destroyed. \n",
    "\n",
    "Note that we never obtain multiple copies of the same qubit - \"No Cloning Theorem\".\n",
    "\n",
    "<a href = \"https://www.nature.com/news/quantum-teleportation-is-even-weirder-than-you-think-1.22321\">Read more </a>"
   ]
  },
  {
   "cell_type": "markdown",
   "metadata": {},
   "source": [
    "<h3> Protocol </h3>"
   ]
  },
  {
   "cell_type": "markdown",
   "metadata": {},
   "source": [
    "Asja has two qubits and Balvis has one qubit.\n",
    "\n",
    "Asja wants to send her first qubit which is in state $ \\ket{v} = \\myvector{a\\\\b} = a\\ket{0} + b\\ket{1} $.\n",
    "\n",
    "Asja's second qubit and Balvis' qubit are entangled. The quantum state of Asja's second qubit and Balvis' qubit is  $ \\sqrttwo\\ket{00} + \\sqrttwo\\ket{11} $.\n",
    "\n",
    "So, the state of the three qubits is\n",
    "\n",
    "$$ \\mypar{a\\ket{0} + b\\ket{1}}\\mypar{\\sqrttwo\\ket{00} + \\sqrttwo\\ket{11}} \n",
    "    = \\sqrttwo \\big( a\\ket{000} + a \\ket{011} + b\\ket{100} + b \\ket{111} \\big).  $$"
   ]
  },
  {
   "cell_type": "markdown",
   "metadata": {},
   "source": [
    "<h4> CNOT operator by Asja </h4>\n",
    "\n",
    "Asja applies CNOT gate to her qubits where her first qubit is the control qubit and her second qubit is the target qubit."
   ]
  },
  {
   "cell_type": "markdown",
   "metadata": {},
   "source": [
    "<h3>Task 1</h3>\n",
    "\n",
    "Calculate the new quantum state after this CNOT operator."
   ]
  },
  {
   "cell_type": "markdown",
   "metadata": {},
   "source": [
    "<a href=\"B54_Quantum_Teleportation_Solutions.ipynb#task1\">click for our solution</a>"
   ]
  },
  {
   "cell_type": "markdown",
   "metadata": {},
   "source": [
    "<h3>Hadamard operator by Asja</h3>\n",
    "\n",
    "Asja applies Hadamard gate to her first qubit."
   ]
  },
  {
   "cell_type": "markdown",
   "metadata": {},
   "source": [
    "<h3>Task 2</h3>\n",
    "\n",
    "Calculate the new quantum state after this Hadamard operator.\n",
    "\n",
    "Verify that the resulting quantum state can be written as follows:\n",
    "\n",
    "$$  \n",
    "    \\frac{1}{2} \\ket{00} \\big( a\\ket{0}+b\\ket{1} \\big) +\n",
    "    \\frac{1}{2} \\ket{01} \\big( a\\ket{1}+b\\ket{0} \\big) +\n",
    "    \\frac{1}{2} \\ket{10} \\big( a\\ket{0}-b\\ket{1} \\big) +\n",
    "    \\frac{1}{2} \\ket{11} \\big( a\\ket{1}-b\\ket{0} \\big) .\n",
    "$$"
   ]
  },
  {
   "cell_type": "markdown",
   "metadata": {},
   "source": [
    "<a href=\"B54_Quantum_Teleportation_Solutions.ipynb#task2\">click for our solution</a>"
   ]
  },
  {
   "cell_type": "markdown",
   "metadata": {},
   "source": [
    "<h3> Measurement by Asja </h3>\n",
    "\n",
    "Asja measures her qubits. With probability $ \\frac{1}{4} $, she can observe one of the basis states.\n",
    "\n",
    "Depeding on the measurement outcomes, Balvis' qubit is in the following states:\n",
    "<ol>\n",
    "    <li> \"00\": $ \\ket{v_{00}} = a\\ket{0} + b \\ket{1} $ </li>\n",
    "    <li> \"01\": $ \\ket{v_{01}} =  a\\ket{1} + b \\ket{0} $ </li>\n",
    "    <li> \"10\": $ \\ket{v_{10}} =  a\\ket{0} - b \\ket{1} $ </li>\n",
    "    <li> \"11\": $ \\ket{v_{11}} =  a\\ket{1} - b \\ket{0} $ </li>\n",
    "</ol>"
   ]
  },
  {
   "cell_type": "markdown",
   "metadata": {},
   "source": [
    "As can be observed, the amplitudes $ a $ and $ b $ are \"transferred\" to Balvis' qubit in any case.\n",
    "\n",
    "If Asja sends the measurement outcomes, then Balvis can construct $ \\ket{v} $ exactly."
   ]
  },
  {
   "cell_type": "markdown",
   "metadata": {},
   "source": [
    "<h3>Task 3</h3>\n",
    "\n",
    "Asja sends the measurement outcomes to Balvis by using two classical bits: $ x $ and $ y $. \n",
    "\n",
    "For each $ (x,y) $ pair, determine the quantum operator(s) that Balvis can apply to obtain $ \\ket{v} = a\\ket{0}+b\\ket{1} $ exactly."
   ]
  },
  {
   "cell_type": "markdown",
   "metadata": {},
   "source": [
    "<a href=\"B54_Quantum_Teleportation_Solutions.ipynb#task3\">click for our solution</a>"
   ]
  },
  {
   "cell_type": "markdown",
   "metadata": {},
   "source": [
    "<h3> Task 4 </h3>\n",
    "\n",
    "Create a quantum circuit with three qubits and two classical bits.\n",
    "\n",
    "Assume that Asja has the first two qubits and Balvis has the third qubit. \n",
    "\n",
    "Implement the protocol given above.\n",
    "<ul>\n",
    "    <li>Create entanglement between Asja's second qubit and Balvis' qubit.</li>\n",
    "    <li>The state of Asja's first qubit can be set by a rotation with randomly picked angle.</li>\n",
    "    <li>Asja applies CNOT and Hadamard operators to her qubits.</li>\n",
    "    <li>Asja measures her own qubits and the results are stored in the classical registers. </li>\n",
    "</ul>\n",
    "\n",
    "At this point, read the state vector of the circuit by using \"statevector_simulator\". \n",
    "\n",
    "<i> When a circuit having measurement is simulated by \"statevector_simulator\", the simulator picks one of the outcomes, and so we see one of the states after the measurement.</i>\n",
    "\n",
    "Verify that the state of Balvis' qubit is in one of these: $ \\ket{v_{00}}$, $ \\ket{v_{01}}$, $ \\ket{v_{10}}$, and $ \\ket{v_{11}}$.\n",
    "\n",
    "<i> Follow the Qiskit order. That is, let qreg[2] be Asja's first qubit, qreg[1] be Asja's second qubit and let qreg[0] be Balvis' qubit.</i>"
   ]
  },
  {
   "cell_type": "code",
   "execution_count": 215,
   "metadata": {},
   "outputs": [],
   "source": [
    "#\n",
    "# your code is here\n",
    "#\n",
    "\n"
   ]
  },
  {
   "cell_type": "markdown",
   "metadata": {},
   "source": [
    "<a href=\"B54_Quantum_Teleportation_Solutions.ipynb#task4\">click for our solution</a>"
   ]
  },
  {
   "cell_type": "markdown",
   "metadata": {},
   "source": [
    "To implement the measurement by Balvis, we need <i>classically controlled</i> operations. Check the solutions if you are interested."
   ]
  }
 ],
 "metadata": {
  "kernelspec": {
   "display_name": "Python 3",
   "language": "python",
   "name": "python3"
  },
  "language_info": {
   "codemirror_mode": {
    "name": "ipython",
    "version": 3
   },
   "file_extension": ".py",
   "mimetype": "text/x-python",
   "name": "python",
   "nbconvert_exporter": "python",
   "pygments_lexer": "ipython3",
   "version": "3.7.3"
  }
 },
 "nbformat": 4,
 "nbformat_minor": 2
}
