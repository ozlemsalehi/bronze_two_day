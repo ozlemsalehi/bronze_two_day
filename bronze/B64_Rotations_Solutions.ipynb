{
 "cells": [
  {
   "cell_type": "markdown",
   "metadata": {},
   "source": [
    "<table>\n",
    "    <tr><td align=\"right\" style=\"background-color:#ffffff;\">\n",
    "        <img src=\"../images/logo.jpg\" width=\"20%\" align=\"right\">\n",
    "    </td></tr>\n",
    "    <tr><td align=\"right\" style=\"color:#777777;background-color:#ffffff;font-size:12px;\">\n",
    "        Prepared by Abuzer Yakaryilmaz<br>\n",
    "        Özlem Salehi | December 5, 2019 (updated)\n",
    "    </td></tr>\n",
    "    <tr><td align=\"right\" style=\"color:#bbbbbb;background-color:#ffffff;font-size:11px;font-style:italic;\">\n",
    "        This cell contains some macros. If there is a problem with displaying mathematical formulas, please run this cell to load these macros.\n",
    "    </td></tr>\n",
    "</table>\n",
    "$ \\newcommand{\\bra}[1]{\\langle #1|} $\n",
    "$ \\newcommand{\\ket}[1]{|#1\\rangle} $\n",
    "$ \\newcommand{\\braket}[2]{\\langle #1|#2\\rangle} $\n",
    "$ \\newcommand{\\dot}[2]{ #1 \\cdot #2} $\n",
    "$ \\newcommand{\\biginner}[2]{\\left\\langle #1,#2\\right\\rangle} $\n",
    "$ \\newcommand{\\mymatrix}[2]{\\left( \\begin{array}{#1} #2\\end{array} \\right)} $\n",
    "$ \\newcommand{\\myvector}[1]{\\mymatrix{c}{#1}} $\n",
    "$ \\newcommand{\\myrvector}[1]{\\mymatrix{r}{#1}} $\n",
    "$ \\newcommand{\\mypar}[1]{\\left( #1 \\right)} $\n",
    "$ \\newcommand{\\mybigpar}[1]{ \\Big( #1 \\Big)} $\n",
    "$ \\newcommand{\\sqrttwo}{\\frac{1}{\\sqrt{2}}} $\n",
    "$ \\newcommand{\\dsqrttwo}{\\dfrac{1}{\\sqrt{2}}} $\n",
    "$ \\newcommand{\\onehalf}{\\frac{1}{2}} $\n",
    "$ \\newcommand{\\donehalf}{\\dfrac{1}{2}} $\n",
    "$ \\newcommand{\\hadamard}{ \\mymatrix{rr}{ \\sqrttwo & \\sqrttwo \\\\ \\sqrttwo & -\\sqrttwo }} $\n",
    "$ \\newcommand{\\vzero}{\\myvector{1\\\\0}} $\n",
    "$ \\newcommand{\\vone}{\\myvector{0\\\\1}} $\n",
    "$ \\newcommand{\\vhadamardzero}{\\myvector{ \\sqrttwo \\\\  \\sqrttwo } } $\n",
    "$ \\newcommand{\\vhadamardone}{ \\myrvector{ \\sqrttwo \\\\ -\\sqrttwo } } $\n",
    "$ \\newcommand{\\myarray}[2]{ \\begin{array}{#1}#2\\end{array}} $\n",
    "$ \\newcommand{\\X}{ \\mymatrix{cc}{0 & 1 \\\\ 1 & 0}  } $\n",
    "$ \\newcommand{\\Z}{ \\mymatrix{rr}{1 & 0 \\\\ 0 & -1}  } $\n",
    "$ \\newcommand{\\Htwo}{ \\mymatrix{rrrr}{ \\frac{1}{2} & \\frac{1}{2} & \\frac{1}{2} & \\frac{1}{2} \\\\ \\frac{1}{2} & -\\frac{1}{2} & \\frac{1}{2} & -\\frac{1}{2} \\\\ \\frac{1}{2} & \\frac{1}{2} & -\\frac{1}{2} & -\\frac{1}{2} \\\\ \\frac{1}{2} & -\\frac{1}{2} & -\\frac{1}{2} & \\frac{1}{2} } } $\n",
    "$ \\newcommand{\\CNOT}{ \\mymatrix{cccc}{1 & 0 & 0 & 0 \\\\ 0 & 1 & 0 & 0 \\\\ 0 & 0 & 0 & 1 \\\\ 0 & 0 & 1 & 0} } $\n",
    "$ \\newcommand{\\norm}[1]{ \\left\\lVert #1 \\right\\rVert } $"
   ]
  },
  {
   "cell_type": "markdown",
   "metadata": {},
   "source": [
    "<h2> <font color=\"blue\"> Solutions for </font>Rotations</h2>"
   ]
  },
  {
   "cell_type": "markdown",
   "metadata": {},
   "source": [
    "<a id=\"task2\"></a>\n",
    "<h3> Task 2 </h3>\n",
    "\n",
    "Start with state $ \\ket{0} $. \n",
    "\n",
    "Apply $ R(\\pi/4) $ 7 times, and draw each state on the unit circle."
   ]
  },
  {
   "cell_type": "markdown",
   "metadata": {},
   "source": [
    "<h3>Solution</h3>"
   ]
  },
  {
   "cell_type": "code",
   "execution_count": null,
   "metadata": {},
   "outputs": [],
   "source": [
    "%run qlatvia.py\n",
    "\n",
    "draw_qubit()\n",
    "\n",
    "[x,y]=[1,0]\n",
    "\n",
    "draw_quantum_state(x,y,\"v0\")\n",
    "\n",
    "sqrttwo = 2**0.5\n",
    "oversqrttwo = 1/sqrttwo\n",
    "\n",
    "R = [ [oversqrttwo, -1*oversqrttwo], [oversqrttwo,oversqrttwo] ]\n",
    "\n",
    "# function for rotation R\n",
    "def rotate(px,py):\n",
    "    newx = R[0][0]*px + R[0][1]*py\n",
    "    newy = R[1][0]*px + R[1][1]*py\n",
    "    return [newx,newy]\n",
    "\n",
    "# apply rotation R 7 times\n",
    "for i in range(1,8):\n",
    "    [x,y] = rotate(x,y)\n",
    "    draw_quantum_state(x,y,\"|v\"+str(i)+\">\")\n"
   ]
  },
  {
   "cell_type": "markdown",
   "metadata": {},
   "source": [
    "<a id=\"task3\"></a>\n",
    "<h3> Task 3 </h3>\n",
    "\n",
    "Create a quantum circuit with one qubit and one bit.\n",
    "\n",
    "Rotate the qubit with angle $ \\pi/4 $ eight times.\n",
    "\n",
    "After each rotation, print the unitary operator representing the whole rotations until this point.\n",
    "\n",
    "Verify your results by printing the rotation matrix in python. "
   ]
  },
  {
   "cell_type": "markdown",
   "metadata": {},
   "source": [
    "<h3>Solution</h3>"
   ]
  },
  {
   "cell_type": "code",
   "execution_count": null,
   "metadata": {},
   "outputs": [],
   "source": [
    "from qiskit import QuantumRegister, ClassicalRegister, QuantumCircuit, execute, Aer\n",
    "from math import pi, cos, sin\n",
    "\n",
    "# first qubit \n",
    "qreg =  QuantumRegister(1) \n",
    "creg = ClassicalRegister(1) \n",
    "mycircuit = QuantumCircuit(qreg,creg)\n",
    "\n",
    "theta=pi/4\n",
    "\n",
    "for i in range(1,9):\n",
    "    total_theta = i*theta\n",
    "    mycircuit.ry(2*theta,qreg[0])\n",
    "    job = execute(mycircuit, Aer.get_backend('unitary_simulator'),optimization_level=0)\n",
    "    current_unitary = job.result().get_unitary(mycircuit, decimals=3)\n",
    "    print(\"after\",i,\"iteration(s):\")\n",
    "    print(current_unitary[0][0].real,current_unitary[0][1].real)\n",
    "    print(current_unitary[1][0].real,current_unitary[1][1].real)\n",
    "    print(\"calculated by python:\")\n",
    "    print(round(cos(total_theta),3),round(-sin(total_theta),3))\n",
    "    print(round(sin(total_theta),3),round(cos(total_theta),3))\n",
    "    print()"
   ]
  },
  {
   "cell_type": "markdown",
   "metadata": {},
   "source": [
    "<a id=\"task4\"></a>\n",
    "<h3>Task 4</h3>\n",
    "\n",
    "In this task, you are going to prove that two consecutive reflections is a rotation.\n",
    "\n",
    "Multiply the matrices for the two operators $\\mathrm{Ref}(\\theta_{1})$ and $\\mathrm{Ref}(\\theta_{2})$ and prove that the effect of two consecutive reflections (first over $\\theta_1$ and then over $\\theta_2$) is a rotation with angle $2(\\theta_2 - \\theta_{1})$.\n",
    "\n",
    "Hint: The following formula will be helpful.\n",
    "\n",
    "$ \n",
    "\\begin{align*}\n",
    "\\sin(a+b)&=\\sin(a)\\cos(b)+\\cos(a)\\sin(b)\\\\\n",
    "\\sin(a-b)&=\\sin(a)\\cos(b)-\\cos(a)\\sin(b)\\\\\n",
    "\\cos(a+b)&=\\cos(a)\\cos(b)-\\sin(a)\\sin(b)\\\\\n",
    "\\cos(a-b)&=\\cos(a)\\cos(b)+\\sin(a)\\sin(b)\n",
    "\\end{align*}\n",
    "$"
   ]
  },
  {
   "cell_type": "markdown",
   "metadata": {},
   "source": [
    "<h3>Solution:</h3>"
   ]
  },
  {
   "cell_type": "markdown",
   "metadata": {},
   "source": [
    "$$ \\mathrm{Ref}(\\theta_{2}) \\mathrm{Ref}(\\theta_{1}) = \\mymatrix{cc}{\\cos(2\\theta_{2}) & \\sin(2\\theta_{2}) \\\\ \\sin(2\\theta_{2})& -\\cos(2\\theta_{2})  }\n",
    "\\mymatrix{cc}{\\cos(2\\theta_{1}) & \\sin(2\\theta_{1}) \\\\ \\sin(2\\theta_{1})& -\\cos(2\\theta_{1})  }$$\n",
    "\n",
    "$$=\n",
    "\\mymatrix{cc}{\\cos(2\\theta_{2})\\cos(2\\theta_{1}) + \\sin(2\\theta_{2})\\sin(2\\theta_{1})& \\cos(2\\theta_{2})\\sin(2\\theta_{1})-  \\sin(2\\theta_{2})\\cos(2\\theta_{1}) \\\\ \\sin(2\\theta_{2})\\cos(2\\theta_{1}) -\\cos(2\\theta_{2})\\sin(2\\theta_{1}) & \\sin(2\\theta_{2})\\sin(2\\theta_{1})+\\cos(2\\theta_{2})\\cos(2\\theta_{1}) }\n",
    "$$\n",
    "\n",
    "$$=\n",
    "\\mymatrix{cc}{\\cos(2\\theta_{2}-2\\theta_{1}) & -\\sin(2\\theta_{2}-2\\theta_1) \\\\ \\sin(2\\theta_{2}-2\\theta_1)& \\cos(2\\theta_{2}-2\\theta_1)  }\n",
    "$$\n",
    "\n",
    "This matrix is exactly equal to ${R}(2(\\theta_2 - \\theta_1))$, the matrix of rotation with angle $2(\\theta_2-\\theta_1)$."
   ]
  }
 ],
 "metadata": {
  "kernelspec": {
   "display_name": "Python 3",
   "language": "python",
   "name": "python3"
  },
  "language_info": {
   "codemirror_mode": {
    "name": "ipython",
    "version": 3
   },
   "file_extension": ".py",
   "mimetype": "text/x-python",
   "name": "python",
   "nbconvert_exporter": "python",
   "pygments_lexer": "ipython3",
   "version": "3.7.3"
  }
 },
 "nbformat": 4,
 "nbformat_minor": 2
}
