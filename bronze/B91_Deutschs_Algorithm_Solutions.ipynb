{
 "cells": [
  {
   "cell_type": "markdown",
   "metadata": {},
   "source": [
    "<h3> Task 3 </h3> \n",
    "\n",
    "Now implement the Deutsch's Algorithm to identify if a function is constant or balanced. How many times you had to call the oracle function in your implementation? (Hint: You can set up two different circuits)"
   ]
  },
  {
   "cell_type": "code",
   "execution_count": 1,
   "metadata": {},
   "outputs": [
    {
     "name": "stdout",
     "output_type": "stream",
     "text": [
      "Result of 1st oracle:  {'0': 1}\n",
      "Result of 2nd oracle:  {'1': 1}\n"
     ]
    }
   ],
   "source": [
    "from qiskit import QuantumCircuit,QuantumRegister,ClassicalRegister,execute,Aer\n",
    "\n",
    "# f(x) = 0\n",
    "def oracle1(circuit,qreg):\n",
    "    circuit.h(qreg[1])\n",
    "    circuit.h(qreg[1])\n",
    "\n",
    "# f(x) = x\n",
    "def oracle2(circuit,qreg):\n",
    "    circuit.cx(qreg[0],qreg[1])\n",
    "\n",
    "c1 = ClassicalRegister(1)\n",
    "q1 = QuantumRegister(2)\n",
    "circuit1 = QuantumCircuit(q1,c1)\n",
    "c2 = ClassicalRegister(1)\n",
    "q2 = QuantumRegister(2)\n",
    "circuit2 = QuantumCircuit(q2,c2)\n",
    "\n",
    "circuit1.h(q1[0])\n",
    "circuit1.x(q1[1])\n",
    "circuit1.h(q1[1])\n",
    "oracle1(circuit1,q1)\n",
    "circuit1.h(0)\n",
    "\n",
    "circuit2.h(q2[0])\n",
    "circuit2.x(q2[1])\n",
    "circuit2.h(q2[1])\n",
    "oracle2(circuit2,q2)\n",
    "circuit2.h(0)\n",
    "\n",
    "circuit1.measure(q1[0],c1)\n",
    "circuit2.measure(q2[0],c2)\n",
    "\n",
    "result1 = execute(circuit1, shots = 1, backend = Aer.get_backend('qasm_simulator')).result()\n",
    "result2 = execute(circuit2, shots = 1, backend = Aer.get_backend('qasm_simulator')).result()\n",
    "\n",
    "print('Result of 1st oracle: ', result1.get_counts()) \n",
    "print('Result of 2nd oracle: ', result2.get_counts()) "
   ]
  }
 ],
 "metadata": {
  "kernelspec": {
   "display_name": "Python 3",
   "language": "python",
   "name": "python3"
  },
  "language_info": {
   "codemirror_mode": {
    "name": "ipython",
    "version": 3
   },
   "file_extension": ".py",
   "mimetype": "text/x-python",
   "name": "python",
   "nbconvert_exporter": "python",
   "pygments_lexer": "ipython3",
   "version": "3.7.6"
  }
 },
 "nbformat": 4,
 "nbformat_minor": 4
}
