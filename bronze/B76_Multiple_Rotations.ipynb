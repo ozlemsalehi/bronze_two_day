{
 "cells": [
  {
   "cell_type": "markdown",
   "metadata": {},
   "source": [
    "<table>\n",
    "    <tr><td align=\"right\" style=\"background-color:#ffffff;\">\n",
    "        <img src=\"../images/logo.jpg\" width=\"20%\" align=\"right\">\n",
    "    </td></tr>\n",
    "    <tr><td align=\"right\" style=\"color:#777777;background-color:#ffffff;font-size:12px;\">\n",
    "        Prepared by Abuzer Yakaryilmaz and Maksims Dimitrijev <br>\n",
    "        Özlem Salehi | August 23, 2019 (updated)\n",
    "    </td></tr>\n",
    "    <tr><td align=\"right\" style=\"color:#bbbbbb;background-color:#ffffff;font-size:11px;font-style:italic;\">\n",
    "        This cell contains some macros. If there is a problem with displaying mathematical formulas, please run this cell to load these macros.\n",
    "    </td></tr>\n",
    "</table>\n",
    "$ \\newcommand{\\bra}[1]{\\langle #1|} $\n",
    "$ \\newcommand{\\ket}[1]{|#1\\rangle} $\n",
    "$ \\newcommand{\\braket}[2]{\\langle #1|#2\\rangle} $\n",
    "$ \\newcommand{\\dot}[2]{ #1 \\cdot #2} $\n",
    "$ \\newcommand{\\biginner}[2]{\\left\\langle #1,#2\\right\\rangle} $\n",
    "$ \\newcommand{\\mymatrix}[2]{\\left( \\begin{array}{#1} #2\\end{array} \\right)} $\n",
    "$ \\newcommand{\\myvector}[1]{\\mymatrix{c}{#1}} $\n",
    "$ \\newcommand{\\myrvector}[1]{\\mymatrix{r}{#1}} $\n",
    "$ \\newcommand{\\mypar}[1]{\\left( #1 \\right)} $\n",
    "$ \\newcommand{\\mybigpar}[1]{ \\Big( #1 \\Big)} $\n",
    "$ \\newcommand{\\sqrttwo}{\\frac{1}{\\sqrt{2}}} $\n",
    "$ \\newcommand{\\dsqrttwo}{\\dfrac{1}{\\sqrt{2}}} $\n",
    "$ \\newcommand{\\onehalf}{\\frac{1}{2}} $\n",
    "$ \\newcommand{\\donehalf}{\\dfrac{1}{2}} $\n",
    "$ \\newcommand{\\hadamard}{ \\mymatrix{rr}{ \\sqrttwo & \\sqrttwo \\\\ \\sqrttwo & -\\sqrttwo }} $\n",
    "$ \\newcommand{\\vzero}{\\myvector{1\\\\0}} $\n",
    "$ \\newcommand{\\vone}{\\myvector{0\\\\1}} $\n",
    "$ \\newcommand{\\vhadamardzero}{\\myvector{ \\sqrttwo \\\\  \\sqrttwo } } $\n",
    "$ \\newcommand{\\vhadamardone}{ \\myrvector{ \\sqrttwo \\\\ -\\sqrttwo } } $\n",
    "$ \\newcommand{\\myarray}[2]{ \\begin{array}{#1}#2\\end{array}} $\n",
    "$ \\newcommand{\\X}{ \\mymatrix{cc}{0 & 1 \\\\ 1 & 0}  } $\n",
    "$ \\newcommand{\\Z}{ \\mymatrix{rr}{1 & 0 \\\\ 0 & -1}  } $\n",
    "$ \\newcommand{\\Htwo}{ \\mymatrix{rrrr}{ \\frac{1}{2} & \\frac{1}{2} & \\frac{1}{2} & \\frac{1}{2} \\\\ \\frac{1}{2} & -\\frac{1}{2} & \\frac{1}{2} & -\\frac{1}{2} \\\\ \\frac{1}{2} & \\frac{1}{2} & -\\frac{1}{2} & -\\frac{1}{2} \\\\ \\frac{1}{2} & -\\frac{1}{2} & -\\frac{1}{2} & \\frac{1}{2} } } $\n",
    "$ \\newcommand{\\CNOT}{ \\mymatrix{cccc}{1 & 0 & 0 & 0 \\\\ 0 & 1 & 0 & 0 \\\\ 0 & 0 & 0 & 1 \\\\ 0 & 0 & 1 & 0} } $\n",
    "$ \\newcommand{\\norm}[1]{ \\left\\lVert #1 \\right\\rVert } $"
   ]
  },
  {
   "cell_type": "markdown",
   "metadata": {},
   "source": [
    "<h2>Multiple Rotations</h2>"
   ]
  },
  {
   "cell_type": "markdown",
   "metadata": {},
   "source": [
    "The trivial way of implementing more than one rotation in parallel is to use a separate qubit for each rotation as we did in Task 7 of Rotation Automata notebook.\n",
    "\n",
    "If we have $ t $ different rotations with angles $ \\theta_1,\\ldots,\\theta_t $, then we can use $ t $ qubits.\n",
    "\n",
    "Alternatively, we can use $ \\log_2 (t) + 1 $ qubits (assuming that $t$ is a power of 2) to implement $t$ different rotations which results in the following unitary matrix of dimension $2t \\times 2t$:"
   ]
  },
  {
   "cell_type": "markdown",
   "metadata": {},
   "source": [
    "$$\n",
    "    R(\\theta_1,\\ldots,\\theta_t) = \n",
    "    \\mymatrix{rr|rr|cc|rr}{\n",
    "        \\cos \\theta_1 & -\\sin \\theta_1 & 0 & 0 & \\cdots & \\cdots & 0 & 0 \\\\ \n",
    "        \\sin \\theta_1 & \\cos \\theta_1 & 0 & 0 & \\cdots & \\cdots & 0 & 0 \\\\ \\hline\n",
    "        0 & 0 & \\cos \\theta_2 & -\\sin \\theta_2 & \\cdots & \\cdots  & 0 & 0  \\\\ \n",
    "        0 & 0 & \\sin \\theta_2 & \\cos \\theta_2 & \\cdots & \\cdots  & 0 & 0 \\\\ \\hline\n",
    "        \\vdots & \\vdots & \\vdots & \\vdots & \\ddots & & \\vdots & \\vdots \\\\ \n",
    "        \\vdots & \\vdots & \\vdots & \\vdots & & \\ddots & \\vdots & \\vdots \\\\ \\hline\n",
    "        0 & 0 & 0 & 0 & \\cdots & \\cdots & \\cos \\theta_t & -\\sin \\theta_t \\\\ \n",
    "        0 & 0 & 0 & 0 & \\cdots & \\cdots & \\sin \\theta_t & \\cos \\theta_t \\\\ \n",
    "    } .\n",
    "$$"
   ]
  },
  {
   "cell_type": "markdown",
   "metadata": {},
   "source": [
    "We will use this idea to solve the problem $\\sf MOD_p$ (see <a href=\"B72_Rotation_Automata.ipynb\" target=\"_blank\">Rotation Automata</a>). We implement $ t $ rotation automata in this way.\n",
    "\n",
    "At the beginning of the computation, we apply Hadamard operator to each qubit. Then, we apply the operator $ R(\\theta_1,\\ldots,\\theta_t) $ for each symbol from the stream. Once the stream is finished, we apply Hadamard operator to each qubit again. \n",
    "\n",
    "If we observe only state 0 in each qubit, then we decide that the stream's length is a multiple of $\\sf p$. Otherwise, we decide that the stream's length is not a multiple of $\\sf p$."
   ]
  },
  {
   "cell_type": "markdown",
   "metadata": {},
   "source": [
    "<h3> Constructing $ R(\\theta_1,\\theta_2) $ </h3>"
   ]
  },
  {
   "cell_type": "markdown",
   "metadata": {},
   "source": [
    "When $t=2$, $ \\log_2 (2) + 1 = 2 $. So, both implementations use the same number of qubits.\n",
    "\n",
    "But, it is a good starting point to construct the following unitary operator:\n",
    "\n",
    "(Note that the state transitions follow the qiskit order.)"
   ]
  },
  {
   "cell_type": "markdown",
   "metadata": {},
   "source": [
    "$$\n",
    "    R(\\theta_1,\\theta_2) =\n",
    "    \\mymatrix{rrrr}{ \n",
    "        \\cos \\theta_1 & -\\sin \\theta_1 & 0 & 0 \\\\\n",
    "        \\sin \\theta_1 & \\cos \\theta_1 & 0 & 0 \\\\\n",
    "        0 & 0 & \\cos \\theta_2 & -\\sin \\theta_2 \\\\\n",
    "        0 & 0 & \\sin \\theta_2 & \\cos \\theta_2 \\\\\n",
    "    } .\n",
    "$$"
   ]
  },
  {
   "cell_type": "markdown",
   "metadata": {},
   "source": [
    "<div style=\"background-color:#f8f8f8;\">\n",
    "<b> Technical Remark:</b>\n",
    "\n",
    "When two qubits are combined (tensored) in qiskit, say $  qreg[0] $ and $ qreg[1] $, they are ordered as $ qreg[1] \\otimes qreg[0] $.\n",
    "\n",
    "If there are $n$ qubits, say $ qreg[0],\\ldots,qreg[n-1] $ to be combined, they are ordered in qiskit as \n",
    "\n",
    "$$ qreg[n-1] \\otimes \\cdots \\otimes qreg[0] .  $$\n",
    "</div>"
   ]
  },
  {
   "cell_type": "markdown",
   "metadata": {},
   "source": [
    "The base states of two qubits can be ordered as $ \\myarray{cc}{qreg[1]& qreg[0]\\\\0&0 \\\\ 0&1 \\\\ 1&0 \\\\ 1&1 } $ \n",
    "or equivalently grouped as $ \\myarray{c}{ 0 \\otimes \\myvector{0 \\\\ 1} \\\\ \\hline 1 \\otimes \\myvector{0 \\\\ 1} } $. \n",
    "\n",
    "We can apply a rotation to $qreg[0]$ controlled by $qreg[1]$: \n",
    "\n",
    "Instead of rotating two different qubits by two different angles, we rotate only a single qubit with two different angles based on the status of the other qubit.\n",
    "\n",
    "To construct $ R(\\theta_1,\\theta_2) $:\n",
    "<ol>\n",
    "    <li> When $qreg[1]$ is in state $ \\ket{0} $, we can apply the rotation with angle $ \\theta_1 $. </li>\n",
    "    <li> When $qreg[1]$ is in state $ \\ket{1} $, we can apply the rotation with angle $ \\theta_2 $. </li>\n",
    "</ol>\n",
    "\n",
    "Now, we implement this by also printing the constructed unitary matrix."
   ]
  },
  {
   "cell_type": "markdown",
   "metadata": {},
   "source": [
    "To implement controlled rotation, we use the controlled rotation gate $ cu3 $ in qiskit. \n",
    "\n",
    "<b> Gate $u3$: </b>\n",
    "\n",
    "The gate $ u3 $ is a generic one-qubit gate for rotation on Bloch sphere. It takes three parameters, and if we pass zeros as the second and third parameters, we implement our rotation gate $ ry $:\n",
    "\n",
    "    u3(2*theta,0,0,qubit)\n",
    "is equivalent to\n",
    "\n",
    "    ry(2*theta,qubit)\n",
    "Both make a rotation with angle $\\theta$ in the real-valued qubit in counter-clockwise direction."
   ]
  },
  {
   "cell_type": "markdown",
   "metadata": {},
   "source": [
    "<b> Gate $cu3$: </b>\n",
    "\n",
    "The two-qubit gate $ cu3 $ takes five parameters. We use it as follows:\n",
    "\n",
    "    cu3(2*theta,0,0,control_qubit,target_qubit)\n",
    "If the control qubit is in state $ \\ket{1} $, then the rotation\n",
    "    \n",
    "    ry(2*theta,target_qubit)\n",
    "is applied (to the target qubit).   "
   ]
  },
  {
   "cell_type": "code",
   "execution_count": null,
   "metadata": {},
   "outputs": [],
   "source": [
    "from qiskit import QuantumRegister, ClassicalRegister, QuantumCircuit, execute, Aer\n",
    "from math import pi\n",
    "\n",
    "# the angles of rotations\n",
    "theta1 = pi/4\n",
    "theta2 = pi/6\n",
    "\n",
    "# the circuit with two qubits\n",
    "qreg = QuantumRegister(2) \n",
    "creg = ClassicalRegister(2) \n",
    "mycircuit = QuantumCircuit(qreg,creg)\n",
    "\n",
    "\n",
    "# when qreg[1] is in |0>, qreg[0] is rotated by theta1\n",
    "mycircuit.x(qreg[1])\n",
    "mycircuit.cu3(2*theta1,0,0,qreg[1],qreg[0])\n",
    "mycircuit.x(qreg[1])\n",
    "\n",
    "# when qreg[1] is in |1>, qreg[0] is rotated by theta2\n",
    "mycircuit.cu3(2*theta2,0,0,qreg[1],qreg[0])\n",
    "              \n",
    "# we read the unitary matrix\n",
    "job = execute(mycircuit,Aer.get_backend('unitary_simulator'))\n",
    "u=job.result().get_unitary(mycircuit,decimals=3)\n",
    "# we print the unitary matrix in nice format\n",
    "for i in range(len(u)):\n",
    "    s=\"\"\n",
    "    for j in range(len(u)):\n",
    "        val = str(u[i][j].real)\n",
    "        while(len(val)<8): val  = \" \"+val\n",
    "        s = s + val\n",
    "    print(s)\n",
    "    \n",
    "\n"
   ]
  },
  {
   "cell_type": "markdown",
   "metadata": {},
   "source": [
    "<h3> Constructing $ R(\\theta_1,\\theta_2,\\theta_3,\\theta_4) $ </h3>"
   ]
  },
  {
   "cell_type": "markdown",
   "metadata": {},
   "source": [
    "We can use $ \\log_2(4) + 1 = 3 $ qubits to construct $ R(\\theta_1,\\theta_2,\\theta_3,\\theta_4) $."
   ]
  },
  {
   "cell_type": "markdown",
   "metadata": {},
   "source": [
    "The base states of three qubits can be ordered as $ \\myarray{ccc}{qreg[2]&qreg[1]&qreg[0] \\\\0&0&0 \\\\ 0&0&1 \\\\ 0&1&0 \\\\ 0&1&1 \\\\ 1&0&0 \\\\ 1&0&1 \\\\ 1&1&0 \\\\ 1&1&1 } $ \n",
    "or equivalently grouped as $ \n",
    "    \\myarray{c}{ \n",
    "    00 \\otimes \\myvector{0 \\\\ 1} \\\\ \\hline \n",
    "    01 \\otimes \\myvector{0 \\\\ 1} \\\\ \\hline \n",
    "    10 \\otimes \\myvector{0 \\\\ 1}  \\\\ \\hline \n",
    "    11 \\otimes \\myvector{0 \\\\ 1} \n",
    "    } $. \n",
    "    \n",
    "We can apply a rotation to $qreg[0]$ controlled by the $qreg[1]$ and $qreg[2]$ : \n",
    "\n",
    "Instead of rotating four different qubits by four different angles, we rotate a single qubit with fout different angles based on the status of the other two qubits."
   ]
  },
  {
   "cell_type": "markdown",
   "metadata": {},
   "source": [
    "\n",
    "\n",
    "\n",
    "In general, if $ t = 2^n $, then we can construct $ R(\\theta_1,\\ldots,\\theta_t) $ by using no more than $ 2\\log_2(t) $ qubits (instead of $t$ qubits). "
   ]
  },
  {
   "cell_type": "markdown",
   "metadata": {},
   "source": [
    "<h3>CCNOT</h3>\n",
    "\n",
    "Let's recall CCNOT. CCNOT will be useful in our main construction.\n",
    "\n",
    "    circuit.ccx(control-qubit1,control-qubit2,target-qubit)\n",
    "\n",
    "The idea behind this gate is simple - NOT operator is applied to the target qubit when both control qubits are in state $\\ket{1}$. Below you can see its matrix representation:\n",
    "\n",
    "$\\mymatrix{cccccccc}{1 & 0 & 0 & 0 & 0 & 0 & 0 & 0 \\\\ 0 & 1 & 0 & 0 & 0 & 0 & 0 & 0 \\\\ 0 & 0 & 1 & 0 & 0 & 0 & 0 & 0 \\\\ 0 & 0 & 0 & 1 & 0 & 0 & 0 & 0 \\\\ 0 & 0 & 0 & 0 & 1 & 0 & 0 & 0 \\\\ 0 & 0 & 0 & 0 & 0 & 1 & 0 & 0 \\\\ 0 & 0 & 0 & 0 & 0 & 0 & 0 & 1 \\\\ 0 & 0 & 0 & 0 & 0 & 0 & 1 & 0}$.\n"
   ]
  },
  {
   "cell_type": "markdown",
   "metadata": {},
   "source": [
    "<h3> Main construction </h3>"
   ]
  },
  {
   "cell_type": "markdown",
   "metadata": {},
   "source": [
    "Before implementing our main construction for four angles, we need a rotation operator controlled by two qubits. (In general we may need to check more than two qubits.)\n",
    "\n",
    "Since $cu3$-gate allows rotation controlled by a single qubit, to implement this unitary operator we need additional tricks (and qubits) and CCNOT gate.\n",
    "\n",
    "To implement a rotation operator controlled by two qubits, we use an auxiliary qubit.\n",
    "\n",
    "Depending on the desired values of the two qubits, the auxiliary qubit is flipped to $ \\ket{1} $ and then the operation is implemented controlled by the auxiliary qubit.\n",
    "\n",
    "Here we describe the case when the control qubits $qreg[2]\\otimes qreg[1]$ are in state $ \\ket{01} $. \n",
    "\n",
    "We also draw the circuit. "
   ]
  },
  {
   "cell_type": "code",
   "execution_count": null,
   "metadata": {},
   "outputs": [],
   "source": [
    "from qiskit import QuantumRegister, ClassicalRegister, QuantumCircuit, execute, Aer\n",
    "from math import pi\n",
    "\n",
    "# initialize the circuit\n",
    "qreg = QuantumRegister(4)  \n",
    "circuit = QuantumCircuit(qreg)\n",
    "\n",
    "# we use the qreg[3] as the auxiliary\n",
    "\n",
    "# apply a rotation to qreg[0] when qreg[2] and qreg[1] are in states |0> and |1>\n",
    "\n",
    "# change the state qreg[2] to |1>\n",
    "circuit.x(qreg[2])\n",
    "# if both qreg[2] and qreg[1] are in states |1>, the state of auxiliary qubit is changed to |1> \n",
    "circuit.ccx(qreg[2],qreg[1],qreg[3])\n",
    "# the rotation is applied to qreg[0] if the state of auxiliary qubit is |1>\n",
    "circuit.cu3(2*pi/6,0,0,qreg[3],qreg[0])\n",
    "# reverse the effects\n",
    "circuit.ccx(qreg[2],qreg[1],qreg[3])\n",
    "circuit.x(qreg[2])\n",
    "\n",
    "circuit.draw()"
   ]
  },
  {
   "cell_type": "markdown",
   "metadata": {},
   "source": [
    "<h3> Task 1</h3>\n",
    "\n",
    "Based on this idea, construct $ R(\\pi/10,2\\pi/10,3\\pi/10,4\\pi/10) $ by applying different rotation operators to $qreg[0]$ when $qreg[2]$ and $qreg[1]$ are in $ \\ket{00} $, $ \\ket{01} $, $ \\ket{10} $, and $ \\ket{11} $. "
   ]
  },
  {
   "cell_type": "code",
   "execution_count": null,
   "metadata": {
    "scrolled": true
   },
   "outputs": [],
   "source": [
    "from qiskit import QuantumRegister, ClassicalRegister, QuantumCircuit, execute, Aer\n",
    "from math import pi,sin\n",
    "\n",
    "# the angles of rotations\n",
    "theta1 = pi/10\n",
    "theta2 = 2*pi/10\n",
    "theta3 = 3*pi/10\n",
    "theta4 = 4*pi/10\n",
    "\n",
    "# for verification, print sin(theta)'s\n",
    "print(\"sin(theta1) = \",round(sin(theta1),3))\n",
    "print(\"sin(theta2) = \",round(sin(theta2),3))\n",
    "print(\"sin(theta3) = \",round(sin(theta3),3))\n",
    "print(\"sin(theta4) = \",round(sin(theta4),3))\n",
    "print()\n",
    "\n",
    "qreg =  QuantumRegister(4) \n",
    "circuit = QuantumCircuit(qreg)\n",
    "\n",
    "# qreg[2] is in |0>\n",
    "# qreg[1] is in |0>\n",
    "#\n",
    "# Your code here\n",
    "#\n",
    "\n",
    "\n",
    "# qreg[2] is in |0>\n",
    "# qreg[1] is in |1>\n",
    "#\n",
    "# Your code here\n",
    "#\n",
    "\n",
    "# qreg[2] is in |1>\n",
    "# qreg[1] is in |0>\n",
    "#\n",
    "# Your code here\n",
    "#\n",
    "\n",
    "# qreg[2] is in |1>\n",
    "# qreg[1] is in |1>\n",
    "#\n",
    "# Your code here\n",
    "#\n",
    "\n",
    "# read the corresponding unitary matrix\n",
    "job = execute(circuit,Aer.get_backend('unitary_simulator'))\n",
    "unitary_matrix=job.result().get_unitary(circuit,decimals=3)\n",
    "for i in range(len(unitary_matrix)):\n",
    "    s=\"\"\n",
    "    for j in range(len(unitary_matrix)):\n",
    "        val = str(unitary_matrix[i][j].real)\n",
    "        while(len(val)<7): val  = \" \"+val\n",
    "        s = s + val\n",
    "    print(s)"
   ]
  },
  {
   "cell_type": "markdown",
   "metadata": {},
   "source": [
    "<a href=\"B76_Multiple_Rotations_Solutions.ipynb#task1\">click for our solution</a>"
   ]
  },
  {
   "cell_type": "markdown",
   "metadata": {},
   "source": [
    "<b>Remarks:</b> \n",
    "\n",
    "The constructed matrix is bigger than our main matrix because of the auxiliary qubit.\n",
    "\n",
    "Our main matrix appears at the top-left quarter of the constructed matrix.\n",
    "\n",
    "The rest of the constructed matrix does not affect our computation unless the auxiliary qubit is set to state $ \\ket{1} $ (except the auxiliary operations)."
   ]
  },
  {
   "cell_type": "markdown",
   "metadata": {},
   "source": [
    "<h3>Task 2</h3>\n",
    "\n",
    "Create a circuit for solving problem $ \\sf MOD_{61} $ by using the above implementation.\n",
    "\n",
    "Pick $ \\theta_1 $, $ \\theta_2 $, $ \\theta_3 $, and $ \\theta_4 $ randomly.\n",
    "\n",
    "At the beginning of the stream and after reading the stream, apply Hadamard operators to your controller qubits.\n",
    "\n",
    "Execute your quantum program on the streams of lengths 1, 11, 21, 31, 41, 51, and 61."
   ]
  },
  {
   "cell_type": "code",
   "execution_count": null,
   "metadata": {},
   "outputs": [],
   "source": [
    "\n",
    "#\n",
    "# your solution is here\n",
    "#\n"
   ]
  },
  {
   "cell_type": "markdown",
   "metadata": {},
   "source": [
    "<a href=\"B76_Multiple_Rotations_Solutions.ipynb#task2\">click for our solution</a>"
   ]
  },
  {
   "cell_type": "markdown",
   "metadata": {},
   "source": [
    "<h3>Rotation with more controls (Optional)</h3>\n",
    "\n",
    "In general, we need a rotation operator controlled with more than two qubits. \n",
    "\n",
    "To implement this rotation operator, we need a not operator controlled with more than two qubits.\n",
    "\n",
    "The following code implements the case where qreg[0] is rotated by $\\theta$ when qreg[3] is in state 1, qreg[2] is in state 0 and qreg[1] is in state 0. qreg[4] and qreg[5] are used as the additional qubits.\n",
    "\n",
    "We print the top left quarter of the matrix."
   ]
  },
  {
   "cell_type": "code",
   "execution_count": null,
   "metadata": {},
   "outputs": [],
   "source": [
    "from qiskit import QuantumRegister, ClassicalRegister, QuantumCircuit, execute, Aer\n",
    "\n",
    "from math import pi\n",
    "\n",
    "qreg3 =  QuantumRegister(6)\n",
    "creg3 = ClassicalRegister(6)\n",
    "\n",
    "mycircuit3 = QuantumCircuit(qreg3,creg3)\n",
    "\n",
    "theta= 2*pi/10\n",
    "\n",
    "\n",
    "# qreg[3] is in |1>\n",
    "# qreg[2] is in |0>\n",
    "# qreg[1] is in |0>\n",
    "mycircuit3.x(qreg3[2])\n",
    "mycircuit3.x(qreg3[1])\n",
    "\n",
    "mycircuit3.ccx(qreg3[3],qreg3[2],qreg3[4])\n",
    "mycircuit3.ccx(qreg3[1],qreg3[4],qreg3[5])\n",
    "mycircuit3.cu3(2*theta,0,0,qreg3[5],qreg3[0])\n",
    "\n",
    "# reverse the effects\n",
    "mycircuit3.ccx(qreg3[1],qreg3[4],qreg3[5])\n",
    "mycircuit3.ccx(qreg3[3],qreg3[2],qreg3[4])\n",
    "\n",
    "mycircuit3.x(qreg3[1])\n",
    "mycircuit3.x(qreg3[2])\n",
    "\n",
    "\n",
    "job = execute(mycircuit3,Aer.get_backend('unitary_simulator'))\n",
    "unitary_matrix=job.result().get_unitary(mycircuit3,decimals=1)\n",
    "for i in range(16):\n",
    "    s=\"\"\n",
    "    for j in range(16):\n",
    "        val = str(unitary_matrix[i][j].real)\n",
    "        while(len(val)<4): val  = \" \"+val\n",
    "        s = s + val\n",
    "    print(s)"
   ]
  },
  {
   "cell_type": "markdown",
   "metadata": {},
   "source": [
    "<h3>Task 3</h3>\n",
    "\n",
    "How many qubits we use to implement the main construction having 16 rotations in parallel?\n",
    "\n",
    "Please specify the number of control qubits and auxiliary qubits."
   ]
  },
  {
   "cell_type": "code",
   "execution_count": null,
   "metadata": {},
   "outputs": [],
   "source": [
    "\n",
    "#\n",
    "# your solution is here\n",
    "#\n"
   ]
  },
  {
   "cell_type": "markdown",
   "metadata": {},
   "source": [
    "<a href=\"B76_Multiple_Rotations_Solutions.ipynb#task3\">click for our solution</a>"
   ]
  },
  {
   "cell_type": "markdown",
   "metadata": {},
   "source": [
    "<h3>Task 4</h3>\n",
    "\n",
    "Create a circuit for solving problem $ \\sf MOD_{61} $ by using five rotations.\n",
    "\n",
    "Pick $ \\theta_1 $, $ \\theta_2 $, $ \\theta_3 $, $ \\theta_4 $ and $ \\theta_5 $ randomly.\n",
    "\n",
    "At the beginning of the stream and after reading the stream, apply Hadamard operators to your controller qubits.\n",
    "\n",
    "Execute your quantum program on the streams of lengths 1, 11, 21, 31, 41, 51, and 61."
   ]
  }
 ],
 "metadata": {
  "kernelspec": {
   "display_name": "Python 3",
   "language": "python",
   "name": "python3"
  },
  "language_info": {
   "codemirror_mode": {
    "name": "ipython",
    "version": 3
   },
   "file_extension": ".py",
   "mimetype": "text/x-python",
   "name": "python",
   "nbconvert_exporter": "python",
   "pygments_lexer": "ipython3",
   "version": "3.7.3"
  }
 },
 "nbformat": 4,
 "nbformat_minor": 2
}
