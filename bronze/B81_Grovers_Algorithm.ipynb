{
 "cells": [
  {
   "cell_type": "markdown",
   "metadata": {},
   "source": [
    "<table>\n",
    "    <tr><td align=\"right\" style=\"background-color:#ffffff;\">\n",
    "        <img src=\"../images/logo.jpg\" width=\"20%\" align=\"right\">\n",
    "    </td></tr>\n",
    "    <tr><td align=\"right\" style=\"color:#777777;background-color:#ffffff;font-size:12px;\">\n",
    "        Prepared by Abuzer Yakaryilmaz <br>\n",
    "        Özlem Salehi | October 02, 2019 (updated)\n",
    "    </td></tr>\n",
    "    <tr><td align=\"right\" style=\"color:#bbbbbb;background-color:#ffffff;font-size:11px;font-style:italic;\">\n",
    "        This cell contains some macros. If there is a problem with displaying mathematical formulas, please run this cell to load these macros.\n",
    "    </td></tr>\n",
    "</table>\n",
    "$ \\newcommand{\\bra}[1]{\\langle #1|} $\n",
    "$ \\newcommand{\\ket}[1]{|#1\\rangle} $\n",
    "$ \\newcommand{\\braket}[2]{\\langle #1|#2\\rangle} $\n",
    "$ \\newcommand{\\dot}[2]{ #1 \\cdot #2} $\n",
    "$ \\newcommand{\\biginner}[2]{\\left\\langle #1,#2\\right\\rangle} $\n",
    "$ \\newcommand{\\mymatrix}[2]{\\left( \\begin{array}{#1} #2\\end{array} \\right)} $\n",
    "$ \\newcommand{\\myvector}[1]{\\mymatrix{c}{#1}} $\n",
    "$ \\newcommand{\\myrvector}[1]{\\mymatrix{r}{#1}} $\n",
    "$ \\newcommand{\\mypar}[1]{\\left( #1 \\right)} $\n",
    "$ \\newcommand{\\mybigpar}[1]{ \\Big( #1 \\Big)} $\n",
    "$ \\newcommand{\\sqrttwo}{\\frac{1}{\\sqrt{2}}} $\n",
    "$ \\newcommand{\\dsqrttwo}{\\dfrac{1}{\\sqrt{2}}} $\n",
    "$ \\newcommand{\\onehalf}{\\frac{1}{2}} $\n",
    "$ \\newcommand{\\donehalf}{\\dfrac{1}{2}} $\n",
    "$ \\newcommand{\\hadamard}{ \\mymatrix{rr}{ \\sqrttwo & \\sqrttwo \\\\ \\sqrttwo & -\\sqrttwo }} $\n",
    "$ \\newcommand{\\vzero}{\\myvector{1\\\\0}} $\n",
    "$ \\newcommand{\\vone}{\\myvector{0\\\\1}} $\n",
    "$ \\newcommand{\\vhadamardzero}{\\myvector{ \\sqrttwo \\\\  \\sqrttwo } } $\n",
    "$ \\newcommand{\\vhadamardone}{ \\myrvector{ \\sqrttwo \\\\ -\\sqrttwo } } $\n",
    "$ \\newcommand{\\myarray}[2]{ \\begin{array}{#1}#2\\end{array}} $\n",
    "$ \\newcommand{\\X}{ \\mymatrix{cc}{0 & 1 \\\\ 1 & 0}  } $\n",
    "$ \\newcommand{\\Z}{ \\mymatrix{rr}{1 & 0 \\\\ 0 & -1}  } $\n",
    "$ \\newcommand{\\Htwo}{ \\mymatrix{rrrr}{ \\frac{1}{2} & \\frac{1}{2} & \\frac{1}{2} & \\frac{1}{2} \\\\ \\frac{1}{2} & -\\frac{1}{2} & \\frac{1}{2} & -\\frac{1}{2} \\\\ \\frac{1}{2} & \\frac{1}{2} & -\\frac{1}{2} & -\\frac{1}{2} \\\\ \\frac{1}{2} & -\\frac{1}{2} & -\\frac{1}{2} & \\frac{1}{2} } } $\n",
    "$ \\newcommand{\\CNOT}{ \\mymatrix{cccc}{1 & 0 & 0 & 0 \\\\ 0 & 1 & 0 & 0 \\\\ 0 & 0 & 0 & 1 \\\\ 0 & 0 & 1 & 0} } $\n",
    "$ \\newcommand{\\norm}[1]{ \\left\\lVert #1 \\right\\rVert } $"
   ]
  },
  {
   "cell_type": "markdown",
   "metadata": {},
   "source": [
    "<h2> Grover's Quantum Search Algorithm </h2>\n",
    "\n",
    "The modifed game is the main part of Grover's quantum search algorithm.\n",
    "\n",
    "Let's assume that there are $N=2^n$ elements in a list, and only one element is marked. The task is to find this marked element.\n",
    "\n",
    "Suppose that there exists a function $f$ with the following properties:\n",
    "\n",
    "\\begin{align*}\n",
    "f(x)&=1 &\\mbox{ if $x$ is marked}\\\\\n",
    "f(x)&=0 &\\mbox{ otherwise}\n",
    "\\end{align*}\n",
    "\n",
    "The Grover's algorithm does not actually search a list of elements, but given that there exists a function $f$ with the given properties, it finds the marked element $x$ such that $f(x)=1$.\n",
    "\n",
    "We access the list by querying $f$, which will be called the <font color=\"blue\">oracle</font>.\n",
    "\n",
    "Normally, in the worst case you would have to query $f$ for all possible inputs to find the $x$ satisfying $f(x)=1$ which has <font color=\"blue\"> query complexity </font>$O(N)$. \n",
    "\n",
    "Grover's algorithm is able to perform the same task only with $O(\\sqrt{N})$ queries."
   ]
  },
  {
   "cell_type": "markdown",
   "metadata": {},
   "source": [
    "<h3>Initialization</h3>\n",
    "\n",
    "If there are $ N $ elements in the list, we can use $ \\log(N) $ qubits. (Assume that $N$ is a power of 2.) \n",
    "\n",
    "Each basis state, i.e., $ \\ket{0 \\cdots 0}, \\ldots, \\ket{1 \\cdots 1} $, corresponds to an index of the list.\n",
    "\n",
    "At the beginning, Hadamard operator is applied to each qubit. Thus, the amplitude of each basis state is set to $ \\frac{1}{\\sqrt{N}} $.\n",
    "\n",
    "We can interpret this as all indices start the game with the same amplitude."
   ]
  },
  {
   "cell_type": "markdown",
   "metadata": {},
   "source": [
    "<h3> Phases </h3>\n",
    "\n",
    "Each iteration consists of two phases: the query phase and the inversion phase\n",
    "\n",
    "The operator in each phase is unitary. The unitary matrix in the query phase depends on the input, but the unitary operator in the inversion phase does not depend on the input.\n",
    "\n",
    "<b>In the query phase</b>, sign of the amplitude of the index corresponding to the marked element is flipped after querying the oracle.\n",
    "\n",
    "<b>In the inversion phase</b>, for each index $i$, the new amplitue is calculated as $ mean - (x_i - mean) = 2mean -x_i $ where $x_i$ is the amplitude of the index $i$ and $mean$ is the average of the amplitudes."
   ]
  },
  {
   "cell_type": "markdown",
   "metadata": {},
   "source": [
    "Let $N=2^n$. We begin with a register holding $n$ qubits, apply Hadamard to each qubit and obtain the following state.\n",
    "\n",
    "\n",
    "$$\\ket{u}=\\dfrac{1}{\\sqrt{N}}\\ket{0\\dots0} + \\dots + \\dfrac{1}{\\sqrt{N}} \\ket{1 \\dots 1} = \\myvector{ \\dfrac{1}{\\sqrt{N}} \\\\\\vdots \\\\ \\dfrac{1}{\\sqrt{N}} }$$"
   ]
  },
  {
   "cell_type": "markdown",
   "metadata": {},
   "source": [
    "$\\ket{u}$ is in equal superposition of all basis states at the beginning.\n",
    "\n",
    "<img src=\"../images/initial.png\">\n",
    "\n",
    "<h4>Query phase</h4>\n",
    "\n",
    "In the query phase, the sign of the amplitude of the marked element will be flipped by the oracle.\n",
    "\n",
    "<img src=\"../images/oracle.png\">"
   ]
  },
  {
   "cell_type": "markdown",
   "metadata": {},
   "source": [
    "<h4>Inversion phase</h4>\n",
    "\n",
    "In the inversion phase, the amplitudes of the states are inverted about the average.\n",
    "\n",
    "<img src=\"../images/inversion.png\">"
   ]
  },
  {
   "cell_type": "markdown",
   "metadata": {},
   "source": [
    "Let us find the matrix for calculating the mean of the amplitudes. "
   ]
  },
  {
   "cell_type": "markdown",
   "metadata": {},
   "source": [
    "The mean of a column vector of size $ N $ can be calculated by multiplying it with the following row vector from the left:\n",
    "\n",
    "$$  \\myvector{ \\frac{1}{N} ~~ \\frac{1}{N} ~~ \\cdots ~~ \\frac{1}{N}} . $$\n",
    "\n",
    "\n",
    "When considering all elements in the list, we work with a matrix. \n",
    "\n",
    "$$ A=\\mymatrix{ccc}{\n",
    "    \\frac{1}{N}  & \\cdots & \\frac{1}{N} \\\\ \n",
    "    \\vdots & \\ddots & \\vdots \\\\\n",
    "    \\frac{1}{N}  & \\cdots & \\frac{1}{N} \\\\ \n",
    "    } \n",
    "$$"
   ]
  },
  {
   "cell_type": "markdown",
   "metadata": {},
   "source": [
    "<h3> Task 1</h3>\n",
    "\n",
    "Let us denote the operator which performs inversion about the mean by $D$. That is, $D \\myvector{x_1 \\\\ \\vdots \\\\ x_N} = \\myvector{ 2m-x_1 \\\\ \\vdots \\\\ 2m-x_N } $, where $ m = \\dfrac{ \\sum_{i=1}^N x_i } { N} $.  \n",
    "\n",
    "Convince yourself that $ D =2A-I$. "
   ]
  },
  {
   "cell_type": "markdown",
   "metadata": {},
   "source": [
    "<a href=\"B81_Grovers_Algorithm_Solutions.ipynb#task1\">click for our solution</a>"
   ]
  },
  {
   "cell_type": "markdown",
   "metadata": {},
   "source": [
    "<h3> Task 2</h3>\n",
    "\n",
    "Let $\\ket{u}=\\myvector{\\frac{1}{\\sqrt{N}} \\\\ \\vdots \\\\ \\frac{1}{\\sqrt{N}}}$ be the equal superposition state.\n",
    "\n",
    "Check that $ D =2\\ket{u}\\bra{u}-I$."
   ]
  },
  {
   "cell_type": "markdown",
   "metadata": {},
   "source": [
    "<a href=\"B81_Grovers_Algorithm_Solutions.ipynb#task2\">click for our solution</a>"
   ]
  },
  {
   "cell_type": "markdown",
   "metadata": {},
   "source": [
    "<h3> Amplitude amplification </h3>\n",
    "\n",
    "At each iteration, the algorithm increases the amplitude of the marked state and decreases the amplitudes of the unmarked ones. \n",
    "\n",
    "This is process is called the <font color=\"blue\">amplitude amplification</font>.\n",
    "\n",
    "We reach the first peak such that the probability of observing a marked element takes its maximum value.\n",
    "\n",
    "If we make a measurement at this point, we expect to observe the marked element with high probability.\n",
    "\n",
    "After passing this point, the amplitudes of the marked elements start to decrease by approaching to 0.\n",
    "\n",
    "We will analyze the number of iterations in more detail in the next notebook."
   ]
  }
 ],
 "metadata": {
  "kernelspec": {
   "display_name": "Python 3",
   "language": "python",
   "name": "python3"
  },
  "language_info": {
   "codemirror_mode": {
    "name": "ipython",
    "version": 3
   },
   "file_extension": ".py",
   "mimetype": "text/x-python",
   "name": "python",
   "nbconvert_exporter": "python",
   "pygments_lexer": "ipython3",
   "version": "3.7.3"
  }
 },
 "nbformat": 4,
 "nbformat_minor": 2
}
