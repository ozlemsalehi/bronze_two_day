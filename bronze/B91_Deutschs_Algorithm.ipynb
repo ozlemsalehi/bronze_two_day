{
 "cells": [
  {
   "cell_type": "markdown",
   "metadata": {},
   "source": [
    "<table>\n",
    "    <tr><td align=\"right\" style=\"background-color:#ffffff;\">\n",
    "        <img src=\"../images/LogoQTurkey.png\" width=\"20%\" align=\"right\">\n",
    "    </td></tr>\n",
    "    <tr><td align=\"right\" style=\"color:#777777;background-color:#ffffff;font-size:12px;\">\n",
    "        Prepared by Berat Yenilen <br>\n",
    "        Edited by Utku Birkan, Cenk Tüysüz<br>\n",
    "        February 15, 2019\n",
    "    </td></tr>\n",
    "    <tr><td align=\"right\" style=\"color:#bbbbbb;background-color:#ffffff;font-size:11px;font-style:italic;\">\n",
    "        This cell contains some macros. If there is a problem with displaying mathematical formulas, please run this cell to load these macros.\n",
    "    </td></tr>\n",
    "</table>\n",
    "$ \\newcommand{\\bra}[1]{\\langle #1|} $\n",
    "$ \\newcommand{\\ket}[1]{|#1\\rangle} $\n",
    "$ \\newcommand{\\braket}[2]{\\langle #1|#2\\rangle} $\n",
    "$ \\newcommand{\\dot}[2]{ #1 \\cdot #2} $\n",
    "$ \\newcommand{\\biginner}[2]{\\left\\langle #1,#2\\right\\rangle} $\n",
    "$ \\newcommand{\\mymatrix}[2]{\\left( \\begin{array}{#1} #2\\end{array} \\right)} $\n",
    "$ \\newcommand{\\myvector}[1]{\\mymatrix{c}{#1}} $\n",
    "$ \\newcommand{\\myrvector}[1]{\\mymatrix{r}{#1}} $\n",
    "$ \\newcommand{\\mypar}[1]{\\left( #1 \\right)} $\n",
    "$ \\newcommand{\\mybigpar}[1]{ \\Big( #1 \\Big)} $\n",
    "$ \\newcommand{\\sqrttwo}{\\frac{1}{\\sqrt{2}}} $\n",
    "$ \\newcommand{\\dsqrttwo}{\\dfrac{1}{\\sqrt{2}}} $\n",
    "$ \\newcommand{\\onehalf}{\\frac{1}{2}} $\n",
    "$ \\newcommand{\\donehalf}{\\dfrac{1}{2}} $\n",
    "$ \\newcommand{\\hadamard}{ \\mymatrix{rr}{ \\sqrttwo & \\sqrttwo \\\\ \\sqrttwo & -\\sqrttwo }} $\n",
    "$ \\newcommand{\\vzero}{\\myvector{1\\\\0}} $\n",
    "$ \\newcommand{\\vone}{\\myvector{0\\\\1}} $\n",
    "$ \\newcommand{\\vhadamardzero}{\\myvector{ \\sqrttwo \\\\  \\sqrttwo } } $\n",
    "$ \\newcommand{\\vhadamardone}{ \\myrvector{ \\sqrttwo \\\\ -\\sqrttwo } } $\n",
    "$ \\newcommand{\\myarray}[2]{ \\begin{array}{#1}#2\\end{array}} $\n",
    "$ \\newcommand{\\X}{ \\mymatrix{cc}{0 & 1 \\\\ 1 & 0}  } $\n",
    "$ \\newcommand{\\Z}{ \\mymatrix{rr}{1 & 0 \\\\ 0 & -1}  } $\n",
    "$ \\newcommand{\\Htwo}{ \\mymatrix{rrrr}{ \\frac{1}{2} & \\frac{1}{2} & \\frac{1}{2} & \\frac{1}{2} \\\\ \\frac{1}{2} & -\\frac{1}{2} & \\frac{1}{2} & -\\frac{1}{2} \\\\ \\frac{1}{2} & \\frac{1}{2} & -\\frac{1}{2} & -\\frac{1}{2} \\\\ \\frac{1}{2} & -\\frac{1}{2} & -\\frac{1}{2} & \\frac{1}{2} } } $\n",
    "$ \\newcommand{\\CNOT}{ \\mymatrix{cccc}{1 & 0 & 0 & 0 \\\\ 0 & 1 & 0 & 0 \\\\ 0 & 0 & 0 & 1 \\\\ 0 & 0 & 1 & 0} } $\n",
    "$ \\newcommand{\\norm}[1]{ \\left\\lVert #1 \\right\\rVert } $"
   ]
  },
  {
   "cell_type": "markdown",
   "metadata": {},
   "source": [
    "<h3> Deutsch's Problem </h3>\n",
    "\n",
    "We say a boolean function $f:\\{0,1\\} \\rightarrow \\{0, 1\\}$ is balanced if $f(0) \\neq f(1)$. If $f(0) = f(1)$ we say that f is constant.\n",
    "\n",
    "Deutch's problem is:\n",
    "- Given f as an oracle, that is we can evaluate it for an input but we can't look inside, decide whether f is constant or balanced."
   ]
  },
  {
   "cell_type": "markdown",
   "metadata": {},
   "source": [
    "<h3> Task 1 (Discussion) </h3>\n",
    "\n",
    "Give examples of balanced and constant single qubit oracles.\n"
   ]
  },
  {
   "cell_type": "markdown",
   "metadata": {},
   "source": [
    "<h3> Deutsch's Algorithm </h3>\n",
    "\n",
    "\n",
    "Now let us describe the Deutcsh's solution for this problem.\n",
    "\n",
    "- Apply an X gate to the second qubit and then Hadamard to both qubits. This will transform our state to:\n",
    "$$ \\ket{\\psi} = \\frac{1}{\\sqrt{2}}(\\ket{0} + \\ket{1} ) \\otimes \\frac{1}{\\sqrt{2}}(\\ket{0} - \\ket{1} ) $$\n",
    "\n",
    "- Then apply $U_f$. The state will become : \n",
    "$$ \\frac{1}{\\sqrt{2}}\\bigg[ (-1)^{f(0)} \\ket{0} + (-1)^{f(1)}\\ket{1} \\bigg] \\otimes \\ket{-} $$   \n",
    "\n",
    "Now, we know that $f(x)$ is either constant or balanced.\n",
    "\n",
    "- If it is constant ($f(0)=f(1)$), then the coefficients of $\\ket{0}$ and $\\ket{1}$ will have the same sign, either $+1$ or $-1$. So, the state will be:\n",
    "\n",
    "$$ (-1)^{f(0)} \\frac{1}{\\sqrt{2}}(\\ket{0} + \\ket{1} ) \\otimes \\ket{-} = (-1)^{f(0)} \\ket{+} \\ket{-} $$ \n",
    "\n",
    "Then, if we apply another Hadamard to first qubit, the state $\\ket{+}$ will transform to $\\ket{0}$. \n",
    "\n",
    "- If $f(x)$ is balanced, then the signs of $\\ket{0}$ and $\\ket{1}$ will be opposite. That is, the state after applying $U_f$ will be:\n",
    "\n",
    "$$ (-1)^{f(0)}\\frac{1}{\\sqrt{2}}(\\ket{0} - \\ket{1} ) \\otimes \\ket{-} = (-1)^{f(0)} \\ket{-} \\ket{-} $$ \n",
    "\n",
    "Then, if we apply another Hadamard to first qubit, the state $\\ket{-}$ will transform to $\\ket{1}$.\n",
    "\n",
    "Thus, we can easily conclude whether $f(x)$ is constant or balanced by measuring the first qubit. It will be $0$, if $f(x)$ is constant and it will be $1$ if $f(x)$ is balanced. The quantum circuit of the algorithm is as follows:\n",
    "\n",
    "<img src=\"../images/deutsch.png\" width=\"80%\" align=\"center\">\n"
   ]
  },
  {
   "cell_type": "markdown",
   "metadata": {},
   "source": [
    "<h3> Task 2 </h3> \n",
    "\n",
    "There are two given $f(x)$ oracles. Write a classical python script to identify if a function is constant or balanced. How many times you had to call the oracle function in your implementation?"
   ]
  },
  {
   "cell_type": "code",
   "execution_count": null,
   "metadata": {},
   "outputs": [],
   "source": [
    "# f(x) = 0\n",
    "def oracle1(x):\n",
    "    if x==0:\n",
    "        return 0\n",
    "    if x==1:\n",
    "        return 0\n",
    "\n",
    "# f(x) = x\n",
    "def oracle2(x):\n",
    "    if x==0:\n",
    "        return 1\n",
    "    if x==1:\n",
    "        return 0"
   ]
  },
  {
   "cell_type": "code",
   "execution_count": null,
   "metadata": {},
   "outputs": [],
   "source": [
    "#\n",
    "# your code here\n",
    "#"
   ]
  },
  {
   "cell_type": "markdown",
   "metadata": {},
   "source": [
    "<h3> Task 3 </h3> \n",
    "\n",
    "Now implement the Deutsch's Algorithm to identify if a function is constant or balanced. How many times you had to call the oracle function in your implementation? (Hint: You can set up two different circuits)"
   ]
  },
  {
   "cell_type": "code",
   "execution_count": null,
   "metadata": {},
   "outputs": [],
   "source": [
    "from qiskit import QuantumCircuit,QuantumRegister,ClassicalRegister,execute,Aer\n",
    "\n",
    "# f(x) = 0\n",
    "def oracle1(circuit,qreg):\n",
    "    circuit.h(qreg[1])\n",
    "    circuit.h(qreg[1])\n",
    "\n",
    "# f(x) = x\n",
    "def oracle2(circuit,qreg):\n",
    "    circuit.cx(qreg[0],qreg[1])"
   ]
  },
  {
   "cell_type": "code",
   "execution_count": null,
   "metadata": {},
   "outputs": [],
   "source": [
    "c1 = ClassicalRegister(1)\n",
    "q1 = QuantumRegister(2)\n",
    "circuit1 = QuantumCircuit(q1,c1)\n",
    "\n",
    "c2 = ClassicalRegister(1)\n",
    "q2 = QuantumRegister(2)\n",
    "circuit2 = QuantumCircuit(q2,c2)\n",
    "\n",
    "#\n",
    "# your code here\n",
    "#\n",
    "\n",
    "circuit1.measure(q1[0],c1)\n",
    "circuit2.measure(q2[0],c2)\n",
    "\n",
    "result1 = execute(circuit1, shots = 1, backend = Aer.get_backend('qasm_simulator')).result()\n",
    "result2 = execute(circuit2, shots = 1, backend = Aer.get_backend('qasm_simulator')).result()\n",
    "\n",
    "print('Result of 1st oracle: ', result1.get_counts()) \n",
    "print('Result of 2nd oracle: ', result2.get_counts()) "
   ]
  },
  {
   "cell_type": "markdown",
   "metadata": {},
   "source": [
    "<a href=\"B91_Deutschs_Algorithm_Solutions.ipynb\">click for our solution</a>"
   ]
  }
 ],
 "metadata": {
  "kernelspec": {
   "display_name": "Python 3",
   "language": "python",
   "name": "python3"
  },
  "language_info": {
   "codemirror_mode": {
    "name": "ipython",
    "version": 3
   },
   "file_extension": ".py",
   "mimetype": "text/x-python",
   "name": "python",
   "nbconvert_exporter": "python",
   "pygments_lexer": "ipython3",
   "version": "3.7.3"
  }
 },
 "nbformat": 4,
 "nbformat_minor": 4
}
