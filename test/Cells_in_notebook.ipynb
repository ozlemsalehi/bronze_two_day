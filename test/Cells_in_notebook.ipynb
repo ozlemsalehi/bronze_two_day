{
 "cells": [
  {
   "cell_type": "markdown",
   "metadata": {},
   "source": [
    "<table>\n",
    "    <tr>\n",
    "        <td  style=\"background-color:#ffffff;\"><a href=\"https://qsoftware.lu.lv/index.php/qworld/\" target=\"_blank\"><img src=\"..\\images\\qworld.jpg\" width=\"70%\" align=\"left\"></a></td>\n",
    "        <td style=\"background-color:#ffffff;\" width=\"*\"></td>\n",
    "        <td  style=\"background-color:#ffffff;vertical-align:text-top;\"><a href=\"https://qsoftware.lu.lv\" target=\"_blank\"><img src=\"..\\images\\logo.jpg\" width=\"25%\" align=\"right\"></a></td>        \n",
    "    </tr>\n",
    "    <tr><td colspan=\"3\" align=\"right\" style=\"color:#777777;background-color:#ffffff;font-size:12px;\">\n",
    "        prepared by <a href=\"http://abu.lu.lv\" target=\"_blank\">Abuzer Yakaryilmaz</a>\n",
    "    </td></tr>\n",
    "    <tr><td colspan=\"3\" align=\"right\" style=\"color:#bbbbbb;background-color:#ffffff;font-size:11px;font-style:italic;\">\n",
    "        This cell contains some macros. If there is a problem with displaying mathematical formulas, please run this cell to load these macros.\n",
    "    </td></tr>\n",
    "</table>"
   ]
  },
  {
   "cell_type": "code",
   "execution_count": null,
   "metadata": {},
   "outputs": [],
   "source": [
    "# A jupyter notebook is composed by one or more cells.\n",
    "# A cell is used to write and execute your codes.\n",
    "# A cell is also used to write descriptions, notes, formulas, etc.\n",
    "# You can format your descriptions by using HTML or LaTex codes.\n",
    "# During our tutorial, you are expected to write only python codes.\n",
    "# Interested readers may also use HTML and LaTex, but it is not necesary to complete our tutorial. \n",
    "\n",
    "#\n",
    "# We explain basic usage of cells in Jupyter notebooks here\n",
    "#\n",
    "\n",
    "# This is the first cell in this notebook.\n",
    "# You can write Python code here, \n",
    "# and then EXECUTE/RUN it by\n",
    "# 1) pressing SHIFT+ENTER\n",
    "# 2) clicking \"Run\" on the menu\n",
    "\n",
    "\n",
    "# here are few lines of python code\n",
    "\n",
    "print(\"hello world\")\n",
    "str=\"*\"\n",
    "for i in range(10):\n",
    "    print(str)\n",
    "    str+=\"*\"\n",
    "\n",
    "# after executing this cell, you will see the outcomes immedeately after this cell\n",
    "#     you may change the range above and re-run this cell\n",
    "\n",
    "# after executing this cell, you can continue with the next cell"
   ]
  },
  {
   "cell_type": "code",
   "execution_count": null,
   "metadata": {},
   "outputs": [],
   "source": [
    "# This is the second cell.\n",
    "#\n",
    "# When you double click after the last cell, a new cell appears automatically.\n",
    "#     It automatically happens, when you execute the last cell as well. \n",
    "#\n",
    "# By using menu item \"Insert\", you may also add a new cell before or after the selected cell.\n",
    "#     When a cell is selected, you may delete it by using menu item \"Edit\".\n",
    "#\n",
    "# As you may notice, there are other editing options under \"Edit\",\n",
    "#     for example, copy/cut-paste cells and split-merge cells."
   ]
  },
  {
   "cell_type": "markdown",
   "metadata": {},
   "source": [
    "<b>This is the third cell.</b> <br>\n",
    "There are four types of cells. <br>\n",
    "The first type is called \"Code\", which is the default type, as the above two cells. <br>\n",
    "This is a second type cell called \"Markdown\", which is used for explanatory texts. <br> \n",
    "The type of any cell is shown on the toolbar under the menu bar (right-side). You can change the type of a cell from this pulldown menu. <br>\n",
    "You can also determine the type by clicking on the menu item \"Cell\", and then the subitem \"Cell Type\".<br>\n",
    "\n",
    "You can write HTML and LaTex code here.<br>\n",
    "Here we have very basic HTML codes: making the texts bold, italic, or underline, and inserting line breaks.\n",
    "\n",
    "<i>By double clicking on this cell, you can see the code.</i> <br>\n",
    "<u>By execucting this cell, you see the result text.</u>"
   ]
  },
  {
   "cell_type": "markdown",
   "metadata": {},
   "source": [
    "<b> This is the fourth cell.</b>\n",
    "<br>\n",
    "the type is also \"Markdown\".\n",
    "\n",
    "LaTex is used to show mathematical expressions, formulas, etc. \n",
    "\n",
    "For example, $ x^2 + y ^ 2 = \\frac{4}{9} $, $ \\sum_{i=1}^n (i+2)^{3} $, or $ \\left( \\begin{array}{rr}  1 & 0 & -1 \\\\ 2 & -2 & 0 \\\\ 3 & -1 & -2  \\end{array} \\right) $.\n",
    "\n",
    "<i>By double clicking on this cell, you can see the code.</i> <br> \n",
    "<u>By executing/running this cell, you can see the result text.</u>"
   ]
  },
  {
   "cell_type": "markdown",
   "metadata": {},
   "source": [
    "<h2> Tips </h2>"
   ]
  },
  {
   "cell_type": "markdown",
   "metadata": {},
   "source": [
    "Showing line numbers: View $\\rightarrow$ Toggle Line Numbers\n",
    "\n",
    "Command mode: CTRL+SHIFT+P"
   ]
  },
  {
   "cell_type": "markdown",
   "metadata": {},
   "source": [
    "<h2>Magic Commands</h2>\n",
    "\n",
    "Here we list a few built-in magic commands for Jupyter notebooks that we will use during this tutorial. \n",
    "\n",
    "These commands can be executed in code-type cells."
   ]
  },
  {
   "cell_type": "markdown",
   "metadata": {},
   "source": [
    "<b><u>Write the content of a code cell</u></b> into an external file:\n",
    "    \n",
    "    %%writefile FILENAME.py\n",
    "This command should be placed in the first line of cell, and then the cell should be executed.\n",
    "\n",
    "<i> Example:</i>"
   ]
  },
  {
   "cell_type": "code",
   "execution_count": null,
   "metadata": {},
   "outputs": [],
   "source": [
    "%%writefile first.py \n",
    "\n",
    "print(\"hello world\")\n",
    "\n",
    "str=\"*\"\n",
    "for i in range(5):\n",
    "    print(str)\n",
    "    str+=\"*\"  "
   ]
  },
  {
   "cell_type": "markdown",
   "metadata": {},
   "source": [
    "<b><u>Execute an external script</u></b> without loading its content into the cell:\n",
    "    \n",
    "    %run FILENAME.py\n",
    "<i>Example:</i>    "
   ]
  },
  {
   "cell_type": "code",
   "execution_count": null,
   "metadata": {},
   "outputs": [],
   "source": [
    "%run first.py\n"
   ]
  },
  {
   "cell_type": "markdown",
   "metadata": {},
   "source": [
    "<b><u>Load an external script</u></b> into a cell:\n",
    "\n",
    "    %load FILENAME.py\n",
    "Once this command is executed, the content of cell is replaced with the content of file. (The previous content is deleted.)\n",
    "\n",
    "Besides, this command is placed to the first line, and then commented out.\n",
    "\n",
    "<i>Example:</i>"
   ]
  },
  {
   "cell_type": "code",
   "execution_count": null,
   "metadata": {},
   "outputs": [],
   "source": [
    "%load first.py\n"
   ]
  }
 ],
 "metadata": {
  "kernelspec": {
   "display_name": "Python 3",
   "language": "python",
   "name": "python3"
  },
  "language_info": {
   "codemirror_mode": {
    "name": "ipython",
    "version": 3
   },
   "file_extension": ".py",
   "mimetype": "text/x-python",
   "name": "python",
   "nbconvert_exporter": "python",
   "pygments_lexer": "ipython3",
   "version": "3.7.1"
  }
 },
 "nbformat": 4,
 "nbformat_minor": 2
}
